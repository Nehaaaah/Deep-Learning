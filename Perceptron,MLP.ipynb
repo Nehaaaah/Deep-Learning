{
 "cells": [
  {
   "cell_type": "markdown",
   "id": "5b3ef0ef",
   "metadata": {},
   "source": [
    "### o\tImplement ADAM/Different optimiser in python and Tensorflow"
   ]
  },
  {
   "cell_type": "code",
   "execution_count": 1,
   "id": "992543ae",
   "metadata": {},
   "outputs": [],
   "source": [
    "import tensorflow as tf\n",
    "from tensorflow import keras\n",
    "import numpy as np\n",
    "import matplotlib.pyplot as plt\n"
   ]
  },
  {
   "cell_type": "code",
   "execution_count": 2,
   "id": "3b620988",
   "metadata": {},
   "outputs": [],
   "source": [
    "(x_train,y_train),(x_test,y_test)=tf.keras.datasets.mnist.load_data()"
   ]
  },
  {
   "cell_type": "code",
   "execution_count": 3,
   "id": "15f6adf6",
   "metadata": {},
   "outputs": [
    {
     "name": "stdout",
     "output_type": "stream",
     "text": [
      "(60000, 28, 28) (10000, 28, 28)\n"
     ]
    }
   ],
   "source": [
    "print(x_train.shape,x_test.shape)## 60000,10000->no.of rows, 28,28-.size of one pixel"
   ]
  },
  {
   "cell_type": "code",
   "execution_count": 4,
   "id": "86ffdd9b",
   "metadata": {},
   "outputs": [
    {
     "name": "stdout",
     "output_type": "stream",
     "text": [
      "(60000,) (10000,)\n"
     ]
    }
   ],
   "source": [
    "print(y_train.shape,y_test.shape)"
   ]
  },
  {
   "cell_type": "code",
   "execution_count": 5,
   "id": "733357bd",
   "metadata": {},
   "outputs": [
    {
     "data": {
      "text/plain": [
       "array([[  0,   0,   0,   0,   0,   0,   0,   0,   0,   0,   0,   0,   0,\n",
       "          0,   0,   0,   0,   0,   0,   0,   0,   0,   0,   0,   0,   0,\n",
       "          0,   0],\n",
       "       [  0,   0,   0,   0,   0,   0,   0,   0,   0,   0,   0,   0,   0,\n",
       "          0,   0,   0,   0,   0,   0,   0,   0,   0,   0,   0,   0,   0,\n",
       "          0,   0],\n",
       "       [  0,   0,   0,   0,   0,   0,   0,   0,   0,   0,   0,   0,   0,\n",
       "          0,   0,   0,   0,   0,   0,   0,   0,   0,   0,   0,   0,   0,\n",
       "          0,   0],\n",
       "       [  0,   0,   0,   0,   0,   0,   0,   0,   0,   0,   0,   0,   0,\n",
       "          0,   0,   0,   0,   0,   0,   0,   0,   0,   0,   0,   0,   0,\n",
       "          0,   0],\n",
       "       [  0,   0,   0,   0,   0,   0,   0,   0,   0,   0,   0,   0,   0,\n",
       "          0,   0,   0,   0,   0,   0,   0,   0,   0,   0,   0,   0,   0,\n",
       "          0,   0],\n",
       "       [  0,   0,   0,   0,   0,   0,   0,   0,   0,   0,   0,   0,   3,\n",
       "         18,  18,  18, 126, 136, 175,  26, 166, 255, 247, 127,   0,   0,\n",
       "          0,   0],\n",
       "       [  0,   0,   0,   0,   0,   0,   0,   0,  30,  36,  94, 154, 170,\n",
       "        253, 253, 253, 253, 253, 225, 172, 253, 242, 195,  64,   0,   0,\n",
       "          0,   0],\n",
       "       [  0,   0,   0,   0,   0,   0,   0,  49, 238, 253, 253, 253, 253,\n",
       "        253, 253, 253, 253, 251,  93,  82,  82,  56,  39,   0,   0,   0,\n",
       "          0,   0],\n",
       "       [  0,   0,   0,   0,   0,   0,   0,  18, 219, 253, 253, 253, 253,\n",
       "        253, 198, 182, 247, 241,   0,   0,   0,   0,   0,   0,   0,   0,\n",
       "          0,   0],\n",
       "       [  0,   0,   0,   0,   0,   0,   0,   0,  80, 156, 107, 253, 253,\n",
       "        205,  11,   0,  43, 154,   0,   0,   0,   0,   0,   0,   0,   0,\n",
       "          0,   0],\n",
       "       [  0,   0,   0,   0,   0,   0,   0,   0,   0,  14,   1, 154, 253,\n",
       "         90,   0,   0,   0,   0,   0,   0,   0,   0,   0,   0,   0,   0,\n",
       "          0,   0],\n",
       "       [  0,   0,   0,   0,   0,   0,   0,   0,   0,   0,   0, 139, 253,\n",
       "        190,   2,   0,   0,   0,   0,   0,   0,   0,   0,   0,   0,   0,\n",
       "          0,   0],\n",
       "       [  0,   0,   0,   0,   0,   0,   0,   0,   0,   0,   0,  11, 190,\n",
       "        253,  70,   0,   0,   0,   0,   0,   0,   0,   0,   0,   0,   0,\n",
       "          0,   0],\n",
       "       [  0,   0,   0,   0,   0,   0,   0,   0,   0,   0,   0,   0,  35,\n",
       "        241, 225, 160, 108,   1,   0,   0,   0,   0,   0,   0,   0,   0,\n",
       "          0,   0],\n",
       "       [  0,   0,   0,   0,   0,   0,   0,   0,   0,   0,   0,   0,   0,\n",
       "         81, 240, 253, 253, 119,  25,   0,   0,   0,   0,   0,   0,   0,\n",
       "          0,   0],\n",
       "       [  0,   0,   0,   0,   0,   0,   0,   0,   0,   0,   0,   0,   0,\n",
       "          0,  45, 186, 253, 253, 150,  27,   0,   0,   0,   0,   0,   0,\n",
       "          0,   0],\n",
       "       [  0,   0,   0,   0,   0,   0,   0,   0,   0,   0,   0,   0,   0,\n",
       "          0,   0,  16,  93, 252, 253, 187,   0,   0,   0,   0,   0,   0,\n",
       "          0,   0],\n",
       "       [  0,   0,   0,   0,   0,   0,   0,   0,   0,   0,   0,   0,   0,\n",
       "          0,   0,   0,   0, 249, 253, 249,  64,   0,   0,   0,   0,   0,\n",
       "          0,   0],\n",
       "       [  0,   0,   0,   0,   0,   0,   0,   0,   0,   0,   0,   0,   0,\n",
       "          0,  46, 130, 183, 253, 253, 207,   2,   0,   0,   0,   0,   0,\n",
       "          0,   0],\n",
       "       [  0,   0,   0,   0,   0,   0,   0,   0,   0,   0,   0,   0,  39,\n",
       "        148, 229, 253, 253, 253, 250, 182,   0,   0,   0,   0,   0,   0,\n",
       "          0,   0],\n",
       "       [  0,   0,   0,   0,   0,   0,   0,   0,   0,   0,  24, 114, 221,\n",
       "        253, 253, 253, 253, 201,  78,   0,   0,   0,   0,   0,   0,   0,\n",
       "          0,   0],\n",
       "       [  0,   0,   0,   0,   0,   0,   0,   0,  23,  66, 213, 253, 253,\n",
       "        253, 253, 198,  81,   2,   0,   0,   0,   0,   0,   0,   0,   0,\n",
       "          0,   0],\n",
       "       [  0,   0,   0,   0,   0,   0,  18, 171, 219, 253, 253, 253, 253,\n",
       "        195,  80,   9,   0,   0,   0,   0,   0,   0,   0,   0,   0,   0,\n",
       "          0,   0],\n",
       "       [  0,   0,   0,   0,  55, 172, 226, 253, 253, 253, 253, 244, 133,\n",
       "         11,   0,   0,   0,   0,   0,   0,   0,   0,   0,   0,   0,   0,\n",
       "          0,   0],\n",
       "       [  0,   0,   0,   0, 136, 253, 253, 253, 212, 135, 132,  16,   0,\n",
       "          0,   0,   0,   0,   0,   0,   0,   0,   0,   0,   0,   0,   0,\n",
       "          0,   0],\n",
       "       [  0,   0,   0,   0,   0,   0,   0,   0,   0,   0,   0,   0,   0,\n",
       "          0,   0,   0,   0,   0,   0,   0,   0,   0,   0,   0,   0,   0,\n",
       "          0,   0],\n",
       "       [  0,   0,   0,   0,   0,   0,   0,   0,   0,   0,   0,   0,   0,\n",
       "          0,   0,   0,   0,   0,   0,   0,   0,   0,   0,   0,   0,   0,\n",
       "          0,   0],\n",
       "       [  0,   0,   0,   0,   0,   0,   0,   0,   0,   0,   0,   0,   0,\n",
       "          0,   0,   0,   0,   0,   0,   0,   0,   0,   0,   0,   0,   0,\n",
       "          0,   0]], dtype=uint8)"
      ]
     },
     "execution_count": 5,
     "metadata": {},
     "output_type": "execute_result"
    }
   ],
   "source": [
    "x_train[0] #the value of 1 pixel in 0th index"
   ]
  },
  {
   "cell_type": "code",
   "execution_count": 6,
   "id": "b6deedbc",
   "metadata": {},
   "outputs": [
    {
     "data": {
      "text/plain": [
       "5"
      ]
     },
     "execution_count": 6,
     "metadata": {},
     "output_type": "execute_result"
    }
   ],
   "source": [
    "y_train[0] #in 0th index of target varaible,it has a class 5th"
   ]
  },
  {
   "cell_type": "markdown",
   "id": "6a5c2d84",
   "metadata": {},
   "source": [
    "***Data Normalization***"
   ]
  },
  {
   "cell_type": "code",
   "execution_count": 7,
   "id": "6f3570db",
   "metadata": {},
   "outputs": [
    {
     "data": {
      "text/plain": [
       "255"
      ]
     },
     "execution_count": 7,
     "metadata": {},
     "output_type": "execute_result"
    }
   ],
   "source": [
    "x_train[0].max()# check the max value of one pixel in training dataset\n",
    "x_test[0].max()"
   ]
  },
  {
   "cell_type": "code",
   "execution_count": 8,
   "id": "ac24bab4",
   "metadata": {},
   "outputs": [],
   "source": [
    "x_train=x_train/255\n",
    "x_test=x_test/255"
   ]
  },
  {
   "cell_type": "code",
   "execution_count": 9,
   "id": "b8924aa2",
   "metadata": {},
   "outputs": [
    {
     "data": {
      "text/plain": [
       "array([[0.        , 0.        , 0.        , 0.        , 0.        ,\n",
       "        0.        , 0.        , 0.        , 0.        , 0.        ,\n",
       "        0.        , 0.        , 0.        , 0.        , 0.        ,\n",
       "        0.        , 0.        , 0.        , 0.        , 0.        ,\n",
       "        0.        , 0.        , 0.        , 0.        , 0.        ,\n",
       "        0.        , 0.        , 0.        ],\n",
       "       [0.        , 0.        , 0.        , 0.        , 0.        ,\n",
       "        0.        , 0.        , 0.        , 0.        , 0.        ,\n",
       "        0.        , 0.        , 0.        , 0.        , 0.        ,\n",
       "        0.        , 0.        , 0.        , 0.        , 0.        ,\n",
       "        0.        , 0.        , 0.        , 0.        , 0.        ,\n",
       "        0.        , 0.        , 0.        ],\n",
       "       [0.        , 0.        , 0.        , 0.        , 0.        ,\n",
       "        0.        , 0.        , 0.        , 0.        , 0.        ,\n",
       "        0.        , 0.        , 0.        , 0.        , 0.        ,\n",
       "        0.        , 0.        , 0.        , 0.        , 0.        ,\n",
       "        0.        , 0.        , 0.        , 0.        , 0.        ,\n",
       "        0.        , 0.        , 0.        ],\n",
       "       [0.        , 0.        , 0.        , 0.        , 0.        ,\n",
       "        0.        , 0.        , 0.        , 0.        , 0.        ,\n",
       "        0.        , 0.        , 0.        , 0.        , 0.        ,\n",
       "        0.        , 0.        , 0.        , 0.        , 0.        ,\n",
       "        0.        , 0.        , 0.        , 0.        , 0.        ,\n",
       "        0.        , 0.        , 0.        ],\n",
       "       [0.        , 0.        , 0.        , 0.        , 0.        ,\n",
       "        0.        , 0.        , 0.        , 0.        , 0.        ,\n",
       "        0.        , 0.        , 0.        , 0.        , 0.        ,\n",
       "        0.        , 0.        , 0.        , 0.        , 0.        ,\n",
       "        0.        , 0.        , 0.        , 0.        , 0.        ,\n",
       "        0.        , 0.        , 0.        ],\n",
       "       [0.        , 0.        , 0.        , 0.        , 0.        ,\n",
       "        0.        , 0.        , 0.        , 0.        , 0.        ,\n",
       "        0.        , 0.        , 0.01176471, 0.07058824, 0.07058824,\n",
       "        0.07058824, 0.49411765, 0.53333333, 0.68627451, 0.10196078,\n",
       "        0.65098039, 1.        , 0.96862745, 0.49803922, 0.        ,\n",
       "        0.        , 0.        , 0.        ],\n",
       "       [0.        , 0.        , 0.        , 0.        , 0.        ,\n",
       "        0.        , 0.        , 0.        , 0.11764706, 0.14117647,\n",
       "        0.36862745, 0.60392157, 0.66666667, 0.99215686, 0.99215686,\n",
       "        0.99215686, 0.99215686, 0.99215686, 0.88235294, 0.6745098 ,\n",
       "        0.99215686, 0.94901961, 0.76470588, 0.25098039, 0.        ,\n",
       "        0.        , 0.        , 0.        ],\n",
       "       [0.        , 0.        , 0.        , 0.        , 0.        ,\n",
       "        0.        , 0.        , 0.19215686, 0.93333333, 0.99215686,\n",
       "        0.99215686, 0.99215686, 0.99215686, 0.99215686, 0.99215686,\n",
       "        0.99215686, 0.99215686, 0.98431373, 0.36470588, 0.32156863,\n",
       "        0.32156863, 0.21960784, 0.15294118, 0.        , 0.        ,\n",
       "        0.        , 0.        , 0.        ],\n",
       "       [0.        , 0.        , 0.        , 0.        , 0.        ,\n",
       "        0.        , 0.        , 0.07058824, 0.85882353, 0.99215686,\n",
       "        0.99215686, 0.99215686, 0.99215686, 0.99215686, 0.77647059,\n",
       "        0.71372549, 0.96862745, 0.94509804, 0.        , 0.        ,\n",
       "        0.        , 0.        , 0.        , 0.        , 0.        ,\n",
       "        0.        , 0.        , 0.        ],\n",
       "       [0.        , 0.        , 0.        , 0.        , 0.        ,\n",
       "        0.        , 0.        , 0.        , 0.31372549, 0.61176471,\n",
       "        0.41960784, 0.99215686, 0.99215686, 0.80392157, 0.04313725,\n",
       "        0.        , 0.16862745, 0.60392157, 0.        , 0.        ,\n",
       "        0.        , 0.        , 0.        , 0.        , 0.        ,\n",
       "        0.        , 0.        , 0.        ],\n",
       "       [0.        , 0.        , 0.        , 0.        , 0.        ,\n",
       "        0.        , 0.        , 0.        , 0.        , 0.05490196,\n",
       "        0.00392157, 0.60392157, 0.99215686, 0.35294118, 0.        ,\n",
       "        0.        , 0.        , 0.        , 0.        , 0.        ,\n",
       "        0.        , 0.        , 0.        , 0.        , 0.        ,\n",
       "        0.        , 0.        , 0.        ],\n",
       "       [0.        , 0.        , 0.        , 0.        , 0.        ,\n",
       "        0.        , 0.        , 0.        , 0.        , 0.        ,\n",
       "        0.        , 0.54509804, 0.99215686, 0.74509804, 0.00784314,\n",
       "        0.        , 0.        , 0.        , 0.        , 0.        ,\n",
       "        0.        , 0.        , 0.        , 0.        , 0.        ,\n",
       "        0.        , 0.        , 0.        ],\n",
       "       [0.        , 0.        , 0.        , 0.        , 0.        ,\n",
       "        0.        , 0.        , 0.        , 0.        , 0.        ,\n",
       "        0.        , 0.04313725, 0.74509804, 0.99215686, 0.2745098 ,\n",
       "        0.        , 0.        , 0.        , 0.        , 0.        ,\n",
       "        0.        , 0.        , 0.        , 0.        , 0.        ,\n",
       "        0.        , 0.        , 0.        ],\n",
       "       [0.        , 0.        , 0.        , 0.        , 0.        ,\n",
       "        0.        , 0.        , 0.        , 0.        , 0.        ,\n",
       "        0.        , 0.        , 0.1372549 , 0.94509804, 0.88235294,\n",
       "        0.62745098, 0.42352941, 0.00392157, 0.        , 0.        ,\n",
       "        0.        , 0.        , 0.        , 0.        , 0.        ,\n",
       "        0.        , 0.        , 0.        ],\n",
       "       [0.        , 0.        , 0.        , 0.        , 0.        ,\n",
       "        0.        , 0.        , 0.        , 0.        , 0.        ,\n",
       "        0.        , 0.        , 0.        , 0.31764706, 0.94117647,\n",
       "        0.99215686, 0.99215686, 0.46666667, 0.09803922, 0.        ,\n",
       "        0.        , 0.        , 0.        , 0.        , 0.        ,\n",
       "        0.        , 0.        , 0.        ],\n",
       "       [0.        , 0.        , 0.        , 0.        , 0.        ,\n",
       "        0.        , 0.        , 0.        , 0.        , 0.        ,\n",
       "        0.        , 0.        , 0.        , 0.        , 0.17647059,\n",
       "        0.72941176, 0.99215686, 0.99215686, 0.58823529, 0.10588235,\n",
       "        0.        , 0.        , 0.        , 0.        , 0.        ,\n",
       "        0.        , 0.        , 0.        ],\n",
       "       [0.        , 0.        , 0.        , 0.        , 0.        ,\n",
       "        0.        , 0.        , 0.        , 0.        , 0.        ,\n",
       "        0.        , 0.        , 0.        , 0.        , 0.        ,\n",
       "        0.0627451 , 0.36470588, 0.98823529, 0.99215686, 0.73333333,\n",
       "        0.        , 0.        , 0.        , 0.        , 0.        ,\n",
       "        0.        , 0.        , 0.        ],\n",
       "       [0.        , 0.        , 0.        , 0.        , 0.        ,\n",
       "        0.        , 0.        , 0.        , 0.        , 0.        ,\n",
       "        0.        , 0.        , 0.        , 0.        , 0.        ,\n",
       "        0.        , 0.        , 0.97647059, 0.99215686, 0.97647059,\n",
       "        0.25098039, 0.        , 0.        , 0.        , 0.        ,\n",
       "        0.        , 0.        , 0.        ],\n",
       "       [0.        , 0.        , 0.        , 0.        , 0.        ,\n",
       "        0.        , 0.        , 0.        , 0.        , 0.        ,\n",
       "        0.        , 0.        , 0.        , 0.        , 0.18039216,\n",
       "        0.50980392, 0.71764706, 0.99215686, 0.99215686, 0.81176471,\n",
       "        0.00784314, 0.        , 0.        , 0.        , 0.        ,\n",
       "        0.        , 0.        , 0.        ],\n",
       "       [0.        , 0.        , 0.        , 0.        , 0.        ,\n",
       "        0.        , 0.        , 0.        , 0.        , 0.        ,\n",
       "        0.        , 0.        , 0.15294118, 0.58039216, 0.89803922,\n",
       "        0.99215686, 0.99215686, 0.99215686, 0.98039216, 0.71372549,\n",
       "        0.        , 0.        , 0.        , 0.        , 0.        ,\n",
       "        0.        , 0.        , 0.        ],\n",
       "       [0.        , 0.        , 0.        , 0.        , 0.        ,\n",
       "        0.        , 0.        , 0.        , 0.        , 0.        ,\n",
       "        0.09411765, 0.44705882, 0.86666667, 0.99215686, 0.99215686,\n",
       "        0.99215686, 0.99215686, 0.78823529, 0.30588235, 0.        ,\n",
       "        0.        , 0.        , 0.        , 0.        , 0.        ,\n",
       "        0.        , 0.        , 0.        ],\n",
       "       [0.        , 0.        , 0.        , 0.        , 0.        ,\n",
       "        0.        , 0.        , 0.        , 0.09019608, 0.25882353,\n",
       "        0.83529412, 0.99215686, 0.99215686, 0.99215686, 0.99215686,\n",
       "        0.77647059, 0.31764706, 0.00784314, 0.        , 0.        ,\n",
       "        0.        , 0.        , 0.        , 0.        , 0.        ,\n",
       "        0.        , 0.        , 0.        ],\n",
       "       [0.        , 0.        , 0.        , 0.        , 0.        ,\n",
       "        0.        , 0.07058824, 0.67058824, 0.85882353, 0.99215686,\n",
       "        0.99215686, 0.99215686, 0.99215686, 0.76470588, 0.31372549,\n",
       "        0.03529412, 0.        , 0.        , 0.        , 0.        ,\n",
       "        0.        , 0.        , 0.        , 0.        , 0.        ,\n",
       "        0.        , 0.        , 0.        ],\n",
       "       [0.        , 0.        , 0.        , 0.        , 0.21568627,\n",
       "        0.6745098 , 0.88627451, 0.99215686, 0.99215686, 0.99215686,\n",
       "        0.99215686, 0.95686275, 0.52156863, 0.04313725, 0.        ,\n",
       "        0.        , 0.        , 0.        , 0.        , 0.        ,\n",
       "        0.        , 0.        , 0.        , 0.        , 0.        ,\n",
       "        0.        , 0.        , 0.        ],\n",
       "       [0.        , 0.        , 0.        , 0.        , 0.53333333,\n",
       "        0.99215686, 0.99215686, 0.99215686, 0.83137255, 0.52941176,\n",
       "        0.51764706, 0.0627451 , 0.        , 0.        , 0.        ,\n",
       "        0.        , 0.        , 0.        , 0.        , 0.        ,\n",
       "        0.        , 0.        , 0.        , 0.        , 0.        ,\n",
       "        0.        , 0.        , 0.        ],\n",
       "       [0.        , 0.        , 0.        , 0.        , 0.        ,\n",
       "        0.        , 0.        , 0.        , 0.        , 0.        ,\n",
       "        0.        , 0.        , 0.        , 0.        , 0.        ,\n",
       "        0.        , 0.        , 0.        , 0.        , 0.        ,\n",
       "        0.        , 0.        , 0.        , 0.        , 0.        ,\n",
       "        0.        , 0.        , 0.        ],\n",
       "       [0.        , 0.        , 0.        , 0.        , 0.        ,\n",
       "        0.        , 0.        , 0.        , 0.        , 0.        ,\n",
       "        0.        , 0.        , 0.        , 0.        , 0.        ,\n",
       "        0.        , 0.        , 0.        , 0.        , 0.        ,\n",
       "        0.        , 0.        , 0.        , 0.        , 0.        ,\n",
       "        0.        , 0.        , 0.        ],\n",
       "       [0.        , 0.        , 0.        , 0.        , 0.        ,\n",
       "        0.        , 0.        , 0.        , 0.        , 0.        ,\n",
       "        0.        , 0.        , 0.        , 0.        , 0.        ,\n",
       "        0.        , 0.        , 0.        , 0.        , 0.        ,\n",
       "        0.        , 0.        , 0.        , 0.        , 0.        ,\n",
       "        0.        , 0.        , 0.        ]])"
      ]
     },
     "execution_count": 9,
     "metadata": {},
     "output_type": "execute_result"
    }
   ],
   "source": [
    "x_train[0]# we can see that after normalization the array ranges from 0 to 1"
   ]
  },
  {
   "cell_type": "code",
   "execution_count": 10,
   "id": "58b130f2",
   "metadata": {},
   "outputs": [
    {
     "data": {
      "image/png": "[encoded data removed]",
      "text/plain": [
       "<Figure size 288x288 with 1 Axes>"
      ]
     },
     "metadata": {
      "needs_background": "light"
     },
     "output_type": "display_data"
    },
    {
     "data": {
      "image/png": "[encoded data removed]",
      "text/plain": [
       "<Figure size 288x288 with 1 Axes>"
      ]
     },
     "metadata": {
      "needs_background": "light"
     },
     "output_type": "display_data"
    },
    {
     "data": {
      "image/png": "[encoded data removed]",
      "text/plain": [
       "<Figure size 288x288 with 1 Axes>"
      ]
     },
     "metadata": {
      "needs_background": "light"
     },
     "output_type": "display_data"
    },
    {
     "data": {
      "image/png": "[encoded data removed]",
      "text/plain": [
       "<Figure size 288x288 with 1 Axes>"
      ]
     },
     "metadata": {
      "needs_background": "light"
     },
     "output_type": "display_data"
    },
    {
     "data": {
      "image/png": "[encoded data removed]",
      "text/plain": [
       "<Figure size 288x288 with 1 Axes>"
      ]
     },
     "metadata": {
      "needs_background": "light"
     },
     "output_type": "display_data"
    },
    {
     "data": {
      "image/png": "[encoded data removed]",
      "text/plain": [
       "<Figure size 288x288 with 1 Axes>"
      ]
     },
     "metadata": {
      "needs_background": "light"
     },
     "output_type": "display_data"
    },
    {
     "data": {
      "image/png": "[encoded data removed]",
      "text/plain": [
       "<Figure size 288x288 with 1 Axes>"
      ]
     },
     "metadata": {
      "needs_background": "light"
     },
     "output_type": "display_data"
    },
    {
     "data": {
      "image/png": "[encoded data removed]",
      "text/plain": [
       "<Figure size 288x288 with 1 Axes>"
      ]
     },
     "metadata": {
      "needs_background": "light"
     },
     "output_type": "display_data"
    },
    {
     "data": {
      "image/png": "[encoded data removed]",
      "text/plain": [
       "<Figure size 288x288 with 1 Axes>"
      ]
     },
     "metadata": {
      "needs_background": "light"
     },
     "output_type": "display_data"
    }
   ],
   "source": [
    "#we can check all datapoints ranging from 0 to 8 index\n",
    "\n",
    "for i in range(9):\n",
    "    plt.matshow(x_train[i],cmap='gray')\n",
    "plt.show()\n"
   ]
  },
  {
   "cell_type": "code",
   "execution_count": null,
   "id": "6a7dd511",
   "metadata": {},
   "outputs": [],
   "source": []
  },
  {
   "cell_type": "markdown",
   "id": "3a7d8092",
   "metadata": {},
   "source": [
    "***Data preprocessing***\n",
    "<p>Need to reshap because the the input takes only 1d array</p>"
   ]
  },
  {
   "cell_type": "code",
   "execution_count": 11,
   "id": "3e264a6e",
   "metadata": {},
   "outputs": [
    {
     "name": "stdout",
     "output_type": "stream",
     "text": [
      "(60000, 784)\n"
     ]
    }
   ],
   "source": [
    "x_train_flat=x_train.reshape(len(x_train),28*28)\n",
    "x_test_flat=x_test.reshape(len(x_test),28*28)\n",
    "print(x_train_flat.shape)"
   ]
  },
  {
   "cell_type": "code",
   "execution_count": 12,
   "id": "0f259259",
   "metadata": {},
   "outputs": [
    {
     "data": {
      "text/plain": [
       "array([[0.        , 0.        , 0.        , 0.        , 0.        ,\n",
       "        0.        , 0.        , 0.        , 0.        , 0.        ,\n",
       "        0.        , 0.        , 0.        , 0.        , 0.        ,\n",
       "        0.        , 0.        , 0.        , 0.        , 0.        ,\n",
       "        0.        , 0.        , 0.        , 0.        , 0.        ,\n",
       "        0.        , 0.        , 0.        ],\n",
       "       [0.        , 0.        , 0.        , 0.        , 0.        ,\n",
       "        0.        , 0.        , 0.        , 0.        , 0.        ,\n",
       "        0.        , 0.        , 0.        , 0.        , 0.        ,\n",
       "        0.        , 0.        , 0.        , 0.        , 0.        ,\n",
       "        0.        , 0.        , 0.        , 0.        , 0.        ,\n",
       "        0.        , 0.        , 0.        ],\n",
       "       [0.        , 0.        , 0.        , 0.        , 0.        ,\n",
       "        0.        , 0.        , 0.        , 0.        , 0.        ,\n",
       "        0.        , 0.        , 0.        , 0.        , 0.        ,\n",
       "        0.        , 0.        , 0.        , 0.        , 0.        ,\n",
       "        0.        , 0.        , 0.        , 0.        , 0.        ,\n",
       "        0.        , 0.        , 0.        ],\n",
       "       [0.        , 0.        , 0.        , 0.        , 0.        ,\n",
       "        0.        , 0.        , 0.        , 0.        , 0.        ,\n",
       "        0.        , 0.        , 0.        , 0.        , 0.        ,\n",
       "        0.        , 0.        , 0.        , 0.        , 0.        ,\n",
       "        0.        , 0.        , 0.        , 0.        , 0.        ,\n",
       "        0.        , 0.        , 0.        ],\n",
       "       [0.        , 0.        , 0.        , 0.        , 0.        ,\n",
       "        0.        , 0.        , 0.        , 0.        , 0.        ,\n",
       "        0.        , 0.        , 0.        , 0.        , 0.        ,\n",
       "        0.        , 0.        , 0.        , 0.        , 0.        ,\n",
       "        0.        , 0.        , 0.        , 0.        , 0.        ,\n",
       "        0.        , 0.        , 0.        ],\n",
       "       [0.        , 0.        , 0.        , 0.        , 0.        ,\n",
       "        0.        , 0.        , 0.        , 0.        , 0.        ,\n",
       "        0.        , 0.        , 0.01176471, 0.07058824, 0.07058824,\n",
       "        0.07058824, 0.49411765, 0.53333333, 0.68627451, 0.10196078,\n",
       "        0.65098039, 1.        , 0.96862745, 0.49803922, 0.        ,\n",
       "        0.        , 0.        , 0.        ],\n",
       "       [0.        , 0.        , 0.        , 0.        , 0.        ,\n",
       "        0.        , 0.        , 0.        , 0.11764706, 0.14117647,\n",
       "        0.36862745, 0.60392157, 0.66666667, 0.99215686, 0.99215686,\n",
       "        0.99215686, 0.99215686, 0.99215686, 0.88235294, 0.6745098 ,\n",
       "        0.99215686, 0.94901961, 0.76470588, 0.25098039, 0.        ,\n",
       "        0.        , 0.        , 0.        ],\n",
       "       [0.        , 0.        , 0.        , 0.        , 0.        ,\n",
       "        0.        , 0.        , 0.19215686, 0.93333333, 0.99215686,\n",
       "        0.99215686, 0.99215686, 0.99215686, 0.99215686, 0.99215686,\n",
       "        0.99215686, 0.99215686, 0.98431373, 0.36470588, 0.32156863,\n",
       "        0.32156863, 0.21960784, 0.15294118, 0.        , 0.        ,\n",
       "        0.        , 0.        , 0.        ],\n",
       "       [0.        , 0.        , 0.        , 0.        , 0.        ,\n",
       "        0.        , 0.        , 0.07058824, 0.85882353, 0.99215686,\n",
       "        0.99215686, 0.99215686, 0.99215686, 0.99215686, 0.77647059,\n",
       "        0.71372549, 0.96862745, 0.94509804, 0.        , 0.        ,\n",
       "        0.        , 0.        , 0.        , 0.        , 0.        ,\n",
       "        0.        , 0.        , 0.        ],\n",
       "       [0.        , 0.        , 0.        , 0.        , 0.        ,\n",
       "        0.        , 0.        , 0.        , 0.31372549, 0.61176471,\n",
       "        0.41960784, 0.99215686, 0.99215686, 0.80392157, 0.04313725,\n",
       "        0.        , 0.16862745, 0.60392157, 0.        , 0.        ,\n",
       "        0.        , 0.        , 0.        , 0.        , 0.        ,\n",
       "        0.        , 0.        , 0.        ],\n",
       "       [0.        , 0.        , 0.        , 0.        , 0.        ,\n",
       "        0.        , 0.        , 0.        , 0.        , 0.05490196,\n",
       "        0.00392157, 0.60392157, 0.99215686, 0.35294118, 0.        ,\n",
       "        0.        , 0.        , 0.        , 0.        , 0.        ,\n",
       "        0.        , 0.        , 0.        , 0.        , 0.        ,\n",
       "        0.        , 0.        , 0.        ],\n",
       "       [0.        , 0.        , 0.        , 0.        , 0.        ,\n",
       "        0.        , 0.        , 0.        , 0.        , 0.        ,\n",
       "        0.        , 0.54509804, 0.99215686, 0.74509804, 0.00784314,\n",
       "        0.        , 0.        , 0.        , 0.        , 0.        ,\n",
       "        0.        , 0.        , 0.        , 0.        , 0.        ,\n",
       "        0.        , 0.        , 0.        ],\n",
       "       [0.        , 0.        , 0.        , 0.        , 0.        ,\n",
       "        0.        , 0.        , 0.        , 0.        , 0.        ,\n",
       "        0.        , 0.04313725, 0.74509804, 0.99215686, 0.2745098 ,\n",
       "        0.        , 0.        , 0.        , 0.        , 0.        ,\n",
       "        0.        , 0.        , 0.        , 0.        , 0.        ,\n",
       "        0.        , 0.        , 0.        ],\n",
       "       [0.        , 0.        , 0.        , 0.        , 0.        ,\n",
       "        0.        , 0.        , 0.        , 0.        , 0.        ,\n",
       "        0.        , 0.        , 0.1372549 , 0.94509804, 0.88235294,\n",
       "        0.62745098, 0.42352941, 0.00392157, 0.        , 0.        ,\n",
       "        0.        , 0.        , 0.        , 0.        , 0.        ,\n",
       "        0.        , 0.        , 0.        ],\n",
       "       [0.        , 0.        , 0.        , 0.        , 0.        ,\n",
       "        0.        , 0.        , 0.        , 0.        , 0.        ,\n",
       "        0.        , 0.        , 0.        , 0.31764706, 0.94117647,\n",
       "        0.99215686, 0.99215686, 0.46666667, 0.09803922, 0.        ,\n",
       "        0.        , 0.        , 0.        , 0.        , 0.        ,\n",
       "        0.        , 0.        , 0.        ],\n",
       "       [0.        , 0.        , 0.        , 0.        , 0.        ,\n",
       "        0.        , 0.        , 0.        , 0.        , 0.        ,\n",
       "        0.        , 0.        , 0.        , 0.        , 0.17647059,\n",
       "        0.72941176, 0.99215686, 0.99215686, 0.58823529, 0.10588235,\n",
       "        0.        , 0.        , 0.        , 0.        , 0.        ,\n",
       "        0.        , 0.        , 0.        ],\n",
       "       [0.        , 0.        , 0.        , 0.        , 0.        ,\n",
       "        0.        , 0.        , 0.        , 0.        , 0.        ,\n",
       "        0.        , 0.        , 0.        , 0.        , 0.        ,\n",
       "        0.0627451 , 0.36470588, 0.98823529, 0.99215686, 0.73333333,\n",
       "        0.        , 0.        , 0.        , 0.        , 0.        ,\n",
       "        0.        , 0.        , 0.        ],\n",
       "       [0.        , 0.        , 0.        , 0.        , 0.        ,\n",
       "        0.        , 0.        , 0.        , 0.        , 0.        ,\n",
       "        0.        , 0.        , 0.        , 0.        , 0.        ,\n",
       "        0.        , 0.        , 0.97647059, 0.99215686, 0.97647059,\n",
       "        0.25098039, 0.        , 0.        , 0.        , 0.        ,\n",
       "        0.        , 0.        , 0.        ],\n",
       "       [0.        , 0.        , 0.        , 0.        , 0.        ,\n",
       "        0.        , 0.        , 0.        , 0.        , 0.        ,\n",
       "        0.        , 0.        , 0.        , 0.        , 0.18039216,\n",
       "        0.50980392, 0.71764706, 0.99215686, 0.99215686, 0.81176471,\n",
       "        0.00784314, 0.        , 0.        , 0.        , 0.        ,\n",
       "        0.        , 0.        , 0.        ],\n",
       "       [0.        , 0.        , 0.        , 0.        , 0.        ,\n",
       "        0.        , 0.        , 0.        , 0.        , 0.        ,\n",
       "        0.        , 0.        , 0.15294118, 0.58039216, 0.89803922,\n",
       "        0.99215686, 0.99215686, 0.99215686, 0.98039216, 0.71372549,\n",
       "        0.        , 0.        , 0.        , 0.        , 0.        ,\n",
       "        0.        , 0.        , 0.        ],\n",
       "       [0.        , 0.        , 0.        , 0.        , 0.        ,\n",
       "        0.        , 0.        , 0.        , 0.        , 0.        ,\n",
       "        0.09411765, 0.44705882, 0.86666667, 0.99215686, 0.99215686,\n",
       "        0.99215686, 0.99215686, 0.78823529, 0.30588235, 0.        ,\n",
       "        0.        , 0.        , 0.        , 0.        , 0.        ,\n",
       "        0.        , 0.        , 0.        ],\n",
       "       [0.        , 0.        , 0.        , 0.        , 0.        ,\n",
       "        0.        , 0.        , 0.        , 0.09019608, 0.25882353,\n",
       "        0.83529412, 0.99215686, 0.99215686, 0.99215686, 0.99215686,\n",
       "        0.77647059, 0.31764706, 0.00784314, 0.        , 0.        ,\n",
       "        0.        , 0.        , 0.        , 0.        , 0.        ,\n",
       "        0.        , 0.        , 0.        ],\n",
       "       [0.        , 0.        , 0.        , 0.        , 0.        ,\n",
       "        0.        , 0.07058824, 0.67058824, 0.85882353, 0.99215686,\n",
       "        0.99215686, 0.99215686, 0.99215686, 0.76470588, 0.31372549,\n",
       "        0.03529412, 0.        , 0.        , 0.        , 0.        ,\n",
       "        0.        , 0.        , 0.        , 0.        , 0.        ,\n",
       "        0.        , 0.        , 0.        ],\n",
       "       [0.        , 0.        , 0.        , 0.        , 0.21568627,\n",
       "        0.6745098 , 0.88627451, 0.99215686, 0.99215686, 0.99215686,\n",
       "        0.99215686, 0.95686275, 0.52156863, 0.04313725, 0.        ,\n",
       "        0.        , 0.        , 0.        , 0.        , 0.        ,\n",
       "        0.        , 0.        , 0.        , 0.        , 0.        ,\n",
       "        0.        , 0.        , 0.        ],\n",
       "       [0.        , 0.        , 0.        , 0.        , 0.53333333,\n",
       "        0.99215686, 0.99215686, 0.99215686, 0.83137255, 0.52941176,\n",
       "        0.51764706, 0.0627451 , 0.        , 0.        , 0.        ,\n",
       "        0.        , 0.        , 0.        , 0.        , 0.        ,\n",
       "        0.        , 0.        , 0.        , 0.        , 0.        ,\n",
       "        0.        , 0.        , 0.        ],\n",
       "       [0.        , 0.        , 0.        , 0.        , 0.        ,\n",
       "        0.        , 0.        , 0.        , 0.        , 0.        ,\n",
       "        0.        , 0.        , 0.        , 0.        , 0.        ,\n",
       "        0.        , 0.        , 0.        , 0.        , 0.        ,\n",
       "        0.        , 0.        , 0.        , 0.        , 0.        ,\n",
       "        0.        , 0.        , 0.        ],\n",
       "       [0.        , 0.        , 0.        , 0.        , 0.        ,\n",
       "        0.        , 0.        , 0.        , 0.        , 0.        ,\n",
       "        0.        , 0.        , 0.        , 0.        , 0.        ,\n",
       "        0.        , 0.        , 0.        , 0.        , 0.        ,\n",
       "        0.        , 0.        , 0.        , 0.        , 0.        ,\n",
       "        0.        , 0.        , 0.        ],\n",
       "       [0.        , 0.        , 0.        , 0.        , 0.        ,\n",
       "        0.        , 0.        , 0.        , 0.        , 0.        ,\n",
       "        0.        , 0.        , 0.        , 0.        , 0.        ,\n",
       "        0.        , 0.        , 0.        , 0.        , 0.        ,\n",
       "        0.        , 0.        , 0.        , 0.        , 0.        ,\n",
       "        0.        , 0.        , 0.        ]])"
      ]
     },
     "execution_count": 12,
     "metadata": {},
     "output_type": "execute_result"
    }
   ],
   "source": [
    "x_train[0]"
   ]
  },
  {
   "cell_type": "code",
   "execution_count": null,
   "id": "be5cfdb6",
   "metadata": {},
   "outputs": [],
   "source": []
  },
  {
   "cell_type": "markdown",
   "id": "2b1b8c00",
   "metadata": {},
   "source": [
    "### Perceptron\n",
    "***Build a Model***"
   ]
  },
  {
   "cell_type": "code",
   "execution_count": 13,
   "id": "1675365f",
   "metadata": {},
   "outputs": [],
   "source": [
    "\n",
    "from tensorflow.keras import layers\n",
    "from tensorflow.keras.models import Sequential\n",
    "from tensorflow.keras.layers import Flatten\n",
    "from tensorflow.keras.layers import Dense\n",
    "from tensorflow.keras.layers import Activation\n",
    "from tensorflow.keras.layers import Dropout\n",
    "from tensorflow.keras.callbacks import EarlyStopping\n",
    "from keras import models\n",
    "model = Sequential([\n",
    "    keras.layers.Dense(10,input_shape=(784,),activation='sigmoid'),\n",
    "    \n",
    "])\n"
   ]
  },
  {
   "cell_type": "markdown",
   "id": "74e99a08",
   "metadata": {},
   "source": [
    "***Compile Model***"
   ]
  },
  {
   "cell_type": "code",
   "execution_count": 14,
   "id": "e5113261",
   "metadata": {},
   "outputs": [],
   "source": [
    "model.compile(optimizer='adam',loss='sparse_categorical_crossentropy',metrics=['accuracy'])"
   ]
  },
  {
   "cell_type": "markdown",
   "id": "b10cdfd6",
   "metadata": {},
   "source": [
    "***Fit the model***"
   ]
  },
  {
   "cell_type": "code",
   "execution_count": 15,
   "id": "d49cd331",
   "metadata": {},
   "outputs": [
    {
     "name": "stdout",
     "output_type": "stream",
     "text": [
      "Epoch 1/20\n",
      "1875/1875 [==============================] - 2s 747us/step - loss: 0.4660 - accuracy: 0.8767\n",
      "Epoch 2/20\n",
      "1875/1875 [==============================] - 1s 754us/step - loss: 0.3042 - accuracy: 0.9155\n",
      "Epoch 3/20\n",
      "1875/1875 [==============================] - 1s 735us/step - loss: 0.2834 - accuracy: 0.9208\n",
      "Epoch 4/20\n",
      "1875/1875 [==============================] - 1s 732us/step - loss: 0.2732 - accuracy: 0.9239\n",
      "Epoch 5/20\n",
      "1875/1875 [==============================] - 1s 725us/step - loss: 0.2667 - accuracy: 0.9259\n",
      "Epoch 6/20\n",
      "1875/1875 [==============================] - 1s 730us/step - loss: 0.2621 - accuracy: 0.9269\n",
      "Epoch 7/20\n",
      "1875/1875 [==============================] - 1s 726us/step - loss: 0.2581 - accuracy: 0.9289\n",
      "Epoch 8/20\n",
      "1875/1875 [==============================] - 1s 734us/step - loss: 0.2555 - accuracy: 0.9294\n",
      "Epoch 9/20\n",
      "1875/1875 [==============================] - 1s 755us/step - loss: 0.2536 - accuracy: 0.9295\n",
      "Epoch 10/20\n",
      "1875/1875 [==============================] - 2s 800us/step - loss: 0.2507 - accuracy: 0.9309\n",
      "Epoch 11/20\n",
      "1875/1875 [==============================] - 1s 742us/step - loss: 0.2492 - accuracy: 0.9309\n",
      "Epoch 12/20\n",
      "1875/1875 [==============================] - 1s 743us/step - loss: 0.2483 - accuracy: 0.9320\n",
      "Epoch 13/20\n",
      "1875/1875 [==============================] - 1s 729us/step - loss: 0.2467 - accuracy: 0.9317\n",
      "Epoch 14/20\n",
      "1875/1875 [==============================] - 1s 726us/step - loss: 0.2451 - accuracy: 0.9329\n",
      "Epoch 15/20\n",
      "1875/1875 [==============================] - 1s 726us/step - loss: 0.2442 - accuracy: 0.9330\n",
      "Epoch 16/20\n",
      "1875/1875 [==============================] - 1s 725us/step - loss: 0.2431 - accuracy: 0.9333\n",
      "Epoch 17/20\n",
      "1875/1875 [==============================] - 1s 727us/step - loss: 0.2423 - accuracy: 0.9330\n",
      "Epoch 18/20\n",
      "1875/1875 [==============================] - 1s 733us/step - loss: 0.2412 - accuracy: 0.9335\n",
      "Epoch 19/20\n",
      "1875/1875 [==============================] - 1s 735us/step - loss: 0.2402 - accuracy: 0.9338\n",
      "Epoch 20/20\n",
      "1875/1875 [==============================] - 1s 735us/step - loss: 0.2398 - accuracy: 0.9338\n"
     ]
    },
    {
     "data": {
      "text/plain": [
       "<keras.callbacks.History at 0x285ce16d310>"
      ]
     },
     "execution_count": 15,
     "metadata": {},
     "output_type": "execute_result"
    }
   ],
   "source": [
    "model.fit(x_train_flat,y_train,epochs=20)"
   ]
  },
  {
   "cell_type": "markdown",
   "id": "e8b0e799",
   "metadata": {},
   "source": [
    "***Evalute***"
   ]
  },
  {
   "cell_type": "code",
   "execution_count": 16,
   "id": "d49a75a5",
   "metadata": {},
   "outputs": [
    {
     "name": "stdout",
     "output_type": "stream",
     "text": [
      "313/313 [==============================] - 0s 610us/step - loss: 0.2700 - accuracy: 0.9267\n"
     ]
    },
    {
     "data": {
      "text/plain": [
       "[0.26999226212501526, 0.9266999959945679]"
      ]
     },
     "execution_count": 16,
     "metadata": {},
     "output_type": "execute_result"
    }
   ],
   "source": [
    "model.evaluate(x_test_flat,y_test)"
   ]
  },
  {
   "cell_type": "code",
   "execution_count": null,
   "id": "52a568ff",
   "metadata": {},
   "outputs": [],
   "source": []
  },
  {
   "cell_type": "markdown",
   "id": "99053053",
   "metadata": {},
   "source": [
    "***Model with Different Optimizers***\n",
    "<p><b>1)SGD</p>"
   ]
  },
  {
   "cell_type": "code",
   "execution_count": 17,
   "id": "5360de2a",
   "metadata": {},
   "outputs": [],
   "source": [
    "model_sgd = Sequential([\n",
    "    keras.layers.Dense(10,input_shape=(784,),activation='sigmoid'),\n",
    "    \n",
    "])"
   ]
  },
  {
   "cell_type": "code",
   "execution_count": 18,
   "id": "e37bbbf2",
   "metadata": {},
   "outputs": [],
   "source": [
    "model_sgd.compile(optimizer='sgd',loss='sparse_categorical_crossentropy',metrics=['accuracy'])"
   ]
  },
  {
   "cell_type": "code",
   "execution_count": 19,
   "id": "aa8299a4",
   "metadata": {},
   "outputs": [
    {
     "name": "stdout",
     "output_type": "stream",
     "text": [
      "Epoch 1/20\n",
      "1875/1875 [==============================] - 1s 669us/step - loss: 0.7743 - accuracy: 0.8184\n",
      "Epoch 2/20\n",
      "1875/1875 [==============================] - 1s 709us/step - loss: 0.4539 - accuracy: 0.8811\n",
      "Epoch 3/20\n",
      "1875/1875 [==============================] - 1s 739us/step - loss: 0.4018 - accuracy: 0.8911\n",
      "Epoch 4/20\n",
      "1875/1875 [==============================] - 1s 697us/step - loss: 0.3758 - accuracy: 0.8970\n",
      "Epoch 5/20\n",
      "1875/1875 [==============================] - 1s 667us/step - loss: 0.3594 - accuracy: 0.9007\n",
      "Epoch 6/20\n",
      "1875/1875 [==============================] - 1s 661us/step - loss: 0.3476 - accuracy: 0.9036\n",
      "Epoch 7/20\n",
      "1875/1875 [==============================] - 1s 672us/step - loss: 0.3387 - accuracy: 0.9059\n",
      "Epoch 8/20\n",
      "1875/1875 [==============================] - 1s 683us/step - loss: 0.3316 - accuracy: 0.9072\n",
      "Epoch 9/20\n",
      "1875/1875 [==============================] - 1s 678us/step - loss: 0.3258 - accuracy: 0.9090\n",
      "Epoch 10/20\n",
      "1875/1875 [==============================] - 1s 693us/step - loss: 0.3209 - accuracy: 0.9102\n",
      "Epoch 11/20\n",
      "1875/1875 [==============================] - 1s 688us/step - loss: 0.3167 - accuracy: 0.9112\n",
      "Epoch 12/20\n",
      "1875/1875 [==============================] - 1s 671us/step - loss: 0.3131 - accuracy: 0.9125\n",
      "Epoch 13/20\n",
      "1875/1875 [==============================] - 1s 678us/step - loss: 0.3099 - accuracy: 0.9135\n",
      "Epoch 14/20\n",
      "1875/1875 [==============================] - 1s 676us/step - loss: 0.3071 - accuracy: 0.9142\n",
      "Epoch 15/20\n",
      "1875/1875 [==============================] - 1s 668us/step - loss: 0.3045 - accuracy: 0.9149\n",
      "Epoch 16/20\n",
      "1875/1875 [==============================] - 1s 669us/step - loss: 0.3021 - accuracy: 0.9159\n",
      "Epoch 17/20\n",
      "1875/1875 [==============================] - 1s 670us/step - loss: 0.3001 - accuracy: 0.9166\n",
      "Epoch 18/20\n",
      "1875/1875 [==============================] - 1s 676us/step - loss: 0.2982 - accuracy: 0.9170\n",
      "Epoch 19/20\n",
      "1875/1875 [==============================] - 1s 672us/step - loss: 0.2964 - accuracy: 0.9170\n",
      "Epoch 20/20\n",
      "1875/1875 [==============================] - 1s 671us/step - loss: 0.2948 - accuracy: 0.9178\n"
     ]
    },
    {
     "data": {
      "text/plain": [
       "<keras.callbacks.History at 0x285fec58250>"
      ]
     },
     "execution_count": 19,
     "metadata": {},
     "output_type": "execute_result"
    }
   ],
   "source": [
    "model_sgd.fit(x_train_flat,y_train,epochs=20)"
   ]
  },
  {
   "cell_type": "code",
   "execution_count": 20,
   "id": "4bc7ef4b",
   "metadata": {},
   "outputs": [
    {
     "name": "stdout",
     "output_type": "stream",
     "text": [
      "313/313 [==============================] - 0s 622us/step - loss: 0.2866 - accuracy: 0.9207\n"
     ]
    }
   ],
   "source": [
    "result=model_sgd.evaluate(x_test_flat,y_test)"
   ]
  },
  {
   "cell_type": "code",
   "execution_count": 21,
   "id": "ed6dc239",
   "metadata": {},
   "outputs": [
    {
     "name": "stdout",
     "output_type": "stream",
     "text": [
      "test loss,test acc:  [0.28662964701652527, 0.9207000136375427]\n"
     ]
    }
   ],
   "source": [
    "print('test loss,test acc: ',result)"
   ]
  },
  {
   "cell_type": "markdown",
   "id": "6dad2ec0",
   "metadata": {},
   "source": [
    "<p><b>2)Adagrad</p>"
   ]
  },
  {
   "cell_type": "code",
   "execution_count": 22,
   "id": "d6e93867",
   "metadata": {},
   "outputs": [],
   "source": [
    "model_Ada = Sequential([\n",
    "    keras.layers.Dense(10,input_shape=(784,),activation='sigmoid'),\n",
    "    \n",
    "])"
   ]
  },
  {
   "cell_type": "code",
   "execution_count": 23,
   "id": "99a991c0",
   "metadata": {},
   "outputs": [],
   "source": [
    "model_Ada.compile(optimizer='Adagrad',loss='sparse_categorical_crossentropy',metrics=['accuracy'])"
   ]
  },
  {
   "cell_type": "code",
   "execution_count": 24,
   "id": "62cba236",
   "metadata": {},
   "outputs": [
    {
     "name": "stdout",
     "output_type": "stream",
     "text": [
      "Epoch 1/20\n",
      "1875/1875 [==============================] - 1s 681us/step - loss: 1.5536 - accuracy: 0.6225\n",
      "Epoch 2/20\n",
      "1875/1875 [==============================] - 1s 682us/step - loss: 1.0572 - accuracy: 0.7892\n",
      "Epoch 3/20\n",
      "1875/1875 [==============================] - 1s 677us/step - loss: 0.8912 - accuracy: 0.8169\n",
      "Epoch 4/20\n",
      "1875/1875 [==============================] - 1s 793us/step - loss: 0.7999 - accuracy: 0.8312\n",
      "Epoch 5/20\n",
      "1875/1875 [==============================] - 1s 697us/step - loss: 0.7400 - accuracy: 0.8400\n",
      "Epoch 6/20\n",
      "1875/1875 [==============================] - 1s 703us/step - loss: 0.6968 - accuracy: 0.8464\n",
      "Epoch 7/20\n",
      "1875/1875 [==============================] - 1s 683us/step - loss: 0.6638 - accuracy: 0.8511\n",
      "Epoch 8/20\n",
      "1875/1875 [==============================] - 1s 687us/step - loss: 0.6375 - accuracy: 0.8554\n",
      "Epoch 9/20\n",
      "1875/1875 [==============================] - 1s 684us/step - loss: 0.6159 - accuracy: 0.8591\n",
      "Epoch 10/20\n",
      "1875/1875 [==============================] - 1s 682us/step - loss: 0.5978 - accuracy: 0.8614\n",
      "Epoch 11/20\n",
      "1875/1875 [==============================] - 1s 679us/step - loss: 0.5822 - accuracy: 0.8638\n",
      "Epoch 12/20\n",
      "1875/1875 [==============================] - 1s 674us/step - loss: 0.5687 - accuracy: 0.8663\n",
      "Epoch 13/20\n",
      "1875/1875 [==============================] - 1s 680us/step - loss: 0.5569 - accuracy: 0.8676\n",
      "Epoch 14/20\n",
      "1875/1875 [==============================] - 1s 677us/step - loss: 0.5463 - accuracy: 0.8696\n",
      "Epoch 15/20\n",
      "1875/1875 [==============================] - 1s 672us/step - loss: 0.5369 - accuracy: 0.8713\n",
      "Epoch 16/20\n",
      "1875/1875 [==============================] - 1s 676us/step - loss: 0.5284 - accuracy: 0.8726\n",
      "Epoch 17/20\n",
      "1875/1875 [==============================] - 1s 676us/step - loss: 0.5206 - accuracy: 0.8739\n",
      "Epoch 18/20\n",
      "1875/1875 [==============================] - 1s 676us/step - loss: 0.5135 - accuracy: 0.8751\n",
      "Epoch 19/20\n",
      "1875/1875 [==============================] - 1s 678us/step - loss: 0.5070 - accuracy: 0.8760\n",
      "Epoch 20/20\n",
      "1875/1875 [==============================] - 1s 680us/step - loss: 0.5010 - accuracy: 0.8772\n"
     ]
    },
    {
     "data": {
      "text/plain": [
       "<keras.callbacks.History at 0x28580019fa0>"
      ]
     },
     "execution_count": 24,
     "metadata": {},
     "output_type": "execute_result"
    }
   ],
   "source": [
    "model_Ada.fit(x_train_flat,y_train,epochs=20)"
   ]
  },
  {
   "cell_type": "code",
   "execution_count": 25,
   "id": "d6dbd466",
   "metadata": {},
   "outputs": [
    {
     "name": "stdout",
     "output_type": "stream",
     "text": [
      "313/313 [==============================] - 0s 619us/step - loss: 0.4781 - accuracy: 0.8847\n"
     ]
    }
   ],
   "source": [
    "result1=model_Ada.evaluate(x_test_flat,y_test)"
   ]
  },
  {
   "cell_type": "code",
   "execution_count": 26,
   "id": "4352878b",
   "metadata": {},
   "outputs": [
    {
     "name": "stdout",
     "output_type": "stream",
     "text": [
      "test loss,test acc:  [0.47813695669174194, 0.8847000002861023]\n"
     ]
    }
   ],
   "source": [
    "print('test loss,test acc: ',result1)"
   ]
  },
  {
   "cell_type": "markdown",
   "id": "adfe3690",
   "metadata": {},
   "source": [
    "### MLP\n",
    "***Build a Model***"
   ]
  },
  {
   "cell_type": "code",
   "execution_count": 27,
   "id": "0dbfa7cb",
   "metadata": {},
   "outputs": [],
   "source": [
    "model1 = Sequential([\n",
    "    Dense(10,input_shape=(784,)),\n",
    "    Dropout(0.2),\n",
    "    Dense(128,activation='relu'),\n",
    "    Dropout(0.1),\n",
    "    Dense(10,activation='softmax')\n",
    "])"
   ]
  },
  {
   "cell_type": "markdown",
   "id": "56d3fc3b",
   "metadata": {},
   "source": [
    "***Compile Model***"
   ]
  },
  {
   "cell_type": "code",
   "execution_count": 28,
   "id": "fdbcd457",
   "metadata": {},
   "outputs": [],
   "source": [
    "model1.compile(optimizer='adam',loss='sparse_categorical_crossentropy',metrics=['accuracy'])"
   ]
  },
  {
   "cell_type": "markdown",
   "id": "be67ae83",
   "metadata": {},
   "source": [
    "***Fit and Evaluate the model***"
   ]
  },
  {
   "cell_type": "code",
   "execution_count": 29,
   "id": "e6de9559",
   "metadata": {},
   "outputs": [
    {
     "name": "stdout",
     "output_type": "stream",
     "text": [
      "Epoch 1/100\n",
      "3/3 [==============================] - 1s 96ms/step - loss: 2.3037 - accuracy: 0.1247 - val_loss: 2.2403 - val_accuracy: 0.2113\n",
      "Epoch 2/100\n",
      "3/3 [==============================] - 0s 48ms/step - loss: 2.2388 - accuracy: 0.1863 - val_loss: 2.1767 - val_accuracy: 0.2951\n",
      "Epoch 3/100\n",
      "3/3 [==============================] - 0s 47ms/step - loss: 2.1791 - accuracy: 0.2456 - val_loss: 2.1096 - val_accuracy: 0.3570\n",
      "Epoch 4/100\n",
      "3/3 [==============================] - 0s 49ms/step - loss: 2.1147 - accuracy: 0.3000 - val_loss: 2.0328 - val_accuracy: 0.3971\n",
      "Epoch 5/100\n",
      "3/3 [==============================] - 0s 49ms/step - loss: 2.0455 - accuracy: 0.3375 - val_loss: 1.9451 - val_accuracy: 0.4416\n",
      "Epoch 6/100\n",
      "3/3 [==============================] - 0s 48ms/step - loss: 1.9655 - accuracy: 0.3751 - val_loss: 1.8477 - val_accuracy: 0.4938\n",
      "Epoch 7/100\n",
      "3/3 [==============================] - 0s 49ms/step - loss: 1.8767 - accuracy: 0.4117 - val_loss: 1.7429 - val_accuracy: 0.5438\n",
      "Epoch 8/100\n",
      "3/3 [==============================] - 0s 49ms/step - loss: 1.7827 - accuracy: 0.4513 - val_loss: 1.6331 - val_accuracy: 0.5913\n",
      "Epoch 9/100\n",
      "3/3 [==============================] - 0s 48ms/step - loss: 1.6857 - accuracy: 0.4914 - val_loss: 1.5202 - val_accuracy: 0.6370\n",
      "Epoch 10/100\n",
      "3/3 [==============================] - 0s 49ms/step - loss: 1.5892 - accuracy: 0.5249 - val_loss: 1.4068 - val_accuracy: 0.6774\n",
      "Epoch 11/100\n",
      "3/3 [==============================] - 0s 49ms/step - loss: 1.4932 - accuracy: 0.5566 - val_loss: 1.2954 - val_accuracy: 0.7141\n",
      "Epoch 12/100\n",
      "3/3 [==============================] - 0s 48ms/step - loss: 1.3926 - accuracy: 0.5919 - val_loss: 1.1879 - val_accuracy: 0.7412\n",
      "Epoch 13/100\n",
      "3/3 [==============================] - 0s 50ms/step - loss: 1.2989 - accuracy: 0.6194 - val_loss: 1.0859 - val_accuracy: 0.7652\n",
      "Epoch 14/100\n",
      "3/3 [==============================] - 0s 47ms/step - loss: 1.2166 - accuracy: 0.6382 - val_loss: 0.9911 - val_accuracy: 0.7795\n",
      "Epoch 15/100\n",
      "3/3 [==============================] - 0s 48ms/step - loss: 1.1312 - accuracy: 0.6627 - val_loss: 0.9056 - val_accuracy: 0.7915\n",
      "Epoch 16/100\n",
      "3/3 [==============================] - 0s 49ms/step - loss: 1.0564 - accuracy: 0.6781 - val_loss: 0.8304 - val_accuracy: 0.8031\n",
      "Epoch 17/100\n",
      "3/3 [==============================] - 0s 49ms/step - loss: 0.9967 - accuracy: 0.6921 - val_loss: 0.7656 - val_accuracy: 0.8155\n",
      "Epoch 18/100\n",
      "3/3 [==============================] - 0s 48ms/step - loss: 0.9424 - accuracy: 0.7064 - val_loss: 0.7106 - val_accuracy: 0.8265\n",
      "Epoch 19/100\n",
      "3/3 [==============================] - 0s 49ms/step - loss: 0.8948 - accuracy: 0.7204 - val_loss: 0.6636 - val_accuracy: 0.8347\n",
      "Epoch 20/100\n",
      "3/3 [==============================] - 0s 49ms/step - loss: 0.8484 - accuracy: 0.7311 - val_loss: 0.6227 - val_accuracy: 0.8419\n",
      "Epoch 21/100\n",
      "3/3 [==============================] - 0s 48ms/step - loss: 0.8165 - accuracy: 0.7400 - val_loss: 0.5877 - val_accuracy: 0.8488\n",
      "Epoch 22/100\n",
      "3/3 [==============================] - 0s 49ms/step - loss: 0.7825 - accuracy: 0.7528 - val_loss: 0.5581 - val_accuracy: 0.8553\n",
      "Epoch 23/100\n",
      "3/3 [==============================] - 0s 49ms/step - loss: 0.7534 - accuracy: 0.7593 - val_loss: 0.5323 - val_accuracy: 0.8605\n",
      "Epoch 24/100\n",
      "3/3 [==============================] - 0s 49ms/step - loss: 0.7270 - accuracy: 0.7674 - val_loss: 0.5091 - val_accuracy: 0.8673\n",
      "Epoch 25/100\n",
      "3/3 [==============================] - 0s 49ms/step - loss: 0.7062 - accuracy: 0.7740 - val_loss: 0.4882 - val_accuracy: 0.8714\n",
      "Epoch 26/100\n",
      "3/3 [==============================] - 0s 49ms/step - loss: 0.6840 - accuracy: 0.7825 - val_loss: 0.4698 - val_accuracy: 0.8757\n",
      "Epoch 27/100\n",
      "3/3 [==============================] - 0s 48ms/step - loss: 0.6681 - accuracy: 0.7879 - val_loss: 0.4539 - val_accuracy: 0.8776\n",
      "Epoch 28/100\n",
      "3/3 [==============================] - 0s 49ms/step - loss: 0.6537 - accuracy: 0.7910 - val_loss: 0.4400 - val_accuracy: 0.8813\n",
      "Epoch 29/100\n",
      "3/3 [==============================] - 0s 49ms/step - loss: 0.6346 - accuracy: 0.7972 - val_loss: 0.4274 - val_accuracy: 0.8837\n",
      "Epoch 30/100\n",
      "3/3 [==============================] - 0s 49ms/step - loss: 0.6209 - accuracy: 0.8023 - val_loss: 0.4158 - val_accuracy: 0.8851\n",
      "Epoch 31/100\n",
      "3/3 [==============================] - 0s 50ms/step - loss: 0.6052 - accuracy: 0.8074 - val_loss: 0.4053 - val_accuracy: 0.8876\n",
      "Epoch 32/100\n",
      "3/3 [==============================] - 0s 48ms/step - loss: 0.5968 - accuracy: 0.8110 - val_loss: 0.3963 - val_accuracy: 0.8901\n",
      "Epoch 33/100\n",
      "3/3 [==============================] - 0s 49ms/step - loss: 0.5882 - accuracy: 0.8143 - val_loss: 0.3883 - val_accuracy: 0.8904\n",
      "Epoch 34/100\n",
      "3/3 [==============================] - 0s 50ms/step - loss: 0.5767 - accuracy: 0.8191 - val_loss: 0.3802 - val_accuracy: 0.8923\n",
      "Epoch 35/100\n",
      "3/3 [==============================] - 0s 50ms/step - loss: 0.5712 - accuracy: 0.8211 - val_loss: 0.3736 - val_accuracy: 0.8942\n",
      "Epoch 36/100\n",
      "3/3 [==============================] - 0s 49ms/step - loss: 0.5571 - accuracy: 0.8255 - val_loss: 0.3675 - val_accuracy: 0.8951\n",
      "Epoch 37/100\n",
      "3/3 [==============================] - 0s 49ms/step - loss: 0.5526 - accuracy: 0.8261 - val_loss: 0.3613 - val_accuracy: 0.8967\n",
      "Epoch 38/100\n",
      "3/3 [==============================] - 0s 50ms/step - loss: 0.5432 - accuracy: 0.8301 - val_loss: 0.3557 - val_accuracy: 0.8982\n",
      "Epoch 39/100\n",
      "3/3 [==============================] - 0s 48ms/step - loss: 0.5366 - accuracy: 0.8346 - val_loss: 0.3509 - val_accuracy: 0.8999\n",
      "Epoch 40/100\n",
      "3/3 [==============================] - 0s 49ms/step - loss: 0.5328 - accuracy: 0.8354 - val_loss: 0.3465 - val_accuracy: 0.9014\n",
      "Epoch 41/100\n",
      "3/3 [==============================] - 0s 49ms/step - loss: 0.5220 - accuracy: 0.8361 - val_loss: 0.3422 - val_accuracy: 0.9022\n",
      "Epoch 42/100\n",
      "3/3 [==============================] - 0s 48ms/step - loss: 0.5216 - accuracy: 0.8365 - val_loss: 0.3381 - val_accuracy: 0.9034\n",
      "Epoch 43/100\n",
      "3/3 [==============================] - 0s 49ms/step - loss: 0.5168 - accuracy: 0.8395 - val_loss: 0.3343 - val_accuracy: 0.9045\n",
      "Epoch 44/100\n",
      "3/3 [==============================] - 0s 49ms/step - loss: 0.5108 - accuracy: 0.8414 - val_loss: 0.3309 - val_accuracy: 0.9053\n",
      "Epoch 45/100\n",
      "3/3 [==============================] - 0s 49ms/step - loss: 0.5037 - accuracy: 0.8448 - val_loss: 0.3270 - val_accuracy: 0.9067\n",
      "Epoch 46/100\n",
      "3/3 [==============================] - 0s 49ms/step - loss: 0.5026 - accuracy: 0.8443 - val_loss: 0.3237 - val_accuracy: 0.9083\n",
      "Epoch 47/100\n",
      "3/3 [==============================] - 0s 49ms/step - loss: 0.4978 - accuracy: 0.8461 - val_loss: 0.3212 - val_accuracy: 0.9095\n",
      "Epoch 48/100\n",
      "3/3 [==============================] - 0s 49ms/step - loss: 0.4931 - accuracy: 0.8482 - val_loss: 0.3185 - val_accuracy: 0.9092\n",
      "Epoch 49/100\n",
      "3/3 [==============================] - 0s 49ms/step - loss: 0.4872 - accuracy: 0.8495 - val_loss: 0.3156 - val_accuracy: 0.9105\n",
      "Epoch 50/100\n",
      "3/3 [==============================] - 0s 49ms/step - loss: 0.4843 - accuracy: 0.8508 - val_loss: 0.3133 - val_accuracy: 0.9108\n",
      "Epoch 51/100\n",
      "3/3 [==============================] - 0s 48ms/step - loss: 0.4816 - accuracy: 0.8525 - val_loss: 0.3107 - val_accuracy: 0.9119\n",
      "Epoch 52/100\n",
      "3/3 [==============================] - 0s 51ms/step - loss: 0.4844 - accuracy: 0.8516 - val_loss: 0.3080 - val_accuracy: 0.9126\n",
      "Epoch 53/100\n",
      "3/3 [==============================] - 0s 49ms/step - loss: 0.4749 - accuracy: 0.8526 - val_loss: 0.3061 - val_accuracy: 0.9133\n",
      "Epoch 54/100\n",
      "3/3 [==============================] - 0s 50ms/step - loss: 0.4762 - accuracy: 0.8539 - val_loss: 0.3038 - val_accuracy: 0.9136\n",
      "Epoch 55/100\n",
      "3/3 [==============================] - 0s 49ms/step - loss: 0.4745 - accuracy: 0.8529 - val_loss: 0.3017 - val_accuracy: 0.9143\n",
      "Epoch 56/100\n",
      "3/3 [==============================] - 0s 48ms/step - loss: 0.4682 - accuracy: 0.8551 - val_loss: 0.2998 - val_accuracy: 0.9147\n",
      "Epoch 57/100\n",
      "3/3 [==============================] - 0s 48ms/step - loss: 0.4631 - accuracy: 0.8578 - val_loss: 0.2984 - val_accuracy: 0.9152\n",
      "Epoch 58/100\n",
      "3/3 [==============================] - 0s 49ms/step - loss: 0.4618 - accuracy: 0.8564 - val_loss: 0.2968 - val_accuracy: 0.9157\n",
      "Epoch 59/100\n",
      "3/3 [==============================] - 0s 49ms/step - loss: 0.4616 - accuracy: 0.8583 - val_loss: 0.2945 - val_accuracy: 0.9169\n",
      "Epoch 60/100\n",
      "3/3 [==============================] - 0s 48ms/step - loss: 0.4610 - accuracy: 0.8591 - val_loss: 0.2929 - val_accuracy: 0.9168\n",
      "Epoch 61/100\n",
      "3/3 [==============================] - 0s 49ms/step - loss: 0.4541 - accuracy: 0.8623 - val_loss: 0.2920 - val_accuracy: 0.9173\n",
      "Epoch 62/100\n",
      "3/3 [==============================] - 0s 49ms/step - loss: 0.4519 - accuracy: 0.8621 - val_loss: 0.2904 - val_accuracy: 0.9178\n",
      "Epoch 63/100\n",
      "3/3 [==============================] - 0s 48ms/step - loss: 0.4524 - accuracy: 0.8616 - val_loss: 0.2883 - val_accuracy: 0.9186\n",
      "Epoch 64/100\n",
      "3/3 [==============================] - 0s 49ms/step - loss: 0.4519 - accuracy: 0.8611 - val_loss: 0.2867 - val_accuracy: 0.9192\n",
      "Epoch 65/100\n",
      "3/3 [==============================] - 0s 48ms/step - loss: 0.4486 - accuracy: 0.8634 - val_loss: 0.2859 - val_accuracy: 0.9189\n",
      "Epoch 66/100\n",
      "3/3 [==============================] - 0s 49ms/step - loss: 0.4472 - accuracy: 0.8622 - val_loss: 0.2847 - val_accuracy: 0.9197\n",
      "Epoch 67/100\n",
      "3/3 [==============================] - 0s 48ms/step - loss: 0.4454 - accuracy: 0.8626 - val_loss: 0.2831 - val_accuracy: 0.9197\n",
      "Epoch 68/100\n",
      "3/3 [==============================] - 0s 49ms/step - loss: 0.4413 - accuracy: 0.8627 - val_loss: 0.2814 - val_accuracy: 0.9210\n",
      "Epoch 69/100\n",
      "3/3 [==============================] - 0s 48ms/step - loss: 0.4405 - accuracy: 0.8650 - val_loss: 0.2804 - val_accuracy: 0.9206\n",
      "Epoch 70/100\n",
      "3/3 [==============================] - 0s 49ms/step - loss: 0.4365 - accuracy: 0.8662 - val_loss: 0.2797 - val_accuracy: 0.9206\n",
      "Epoch 71/100\n",
      "3/3 [==============================] - 0s 48ms/step - loss: 0.4296 - accuracy: 0.8688 - val_loss: 0.2781 - val_accuracy: 0.9215\n",
      "Epoch 72/100\n",
      "3/3 [==============================] - 0s 48ms/step - loss: 0.4381 - accuracy: 0.8673 - val_loss: 0.2764 - val_accuracy: 0.9218\n",
      "Epoch 73/100\n",
      "3/3 [==============================] - 0s 49ms/step - loss: 0.4357 - accuracy: 0.8677 - val_loss: 0.2756 - val_accuracy: 0.9227\n",
      "Epoch 74/100\n",
      "3/3 [==============================] - 0s 49ms/step - loss: 0.4299 - accuracy: 0.8682 - val_loss: 0.2746 - val_accuracy: 0.9227\n",
      "Epoch 75/100\n",
      "3/3 [==============================] - 0s 48ms/step - loss: 0.4322 - accuracy: 0.8675 - val_loss: 0.2736 - val_accuracy: 0.9223\n",
      "Epoch 76/100\n",
      "3/3 [==============================] - 0s 50ms/step - loss: 0.4305 - accuracy: 0.8684 - val_loss: 0.2724 - val_accuracy: 0.9222\n"
     ]
    },
    {
     "data": {
      "text/plain": [
       "<keras.callbacks.History at 0x285fbcf4880>"
      ]
     },
     "execution_count": 29,
     "metadata": {},
     "output_type": "execute_result"
    }
   ],
   "source": [
    "callbacks=[EarlyStopping(monitor='val_accuracy',patience=3)]\n",
    "model1.fit(x_train_flat,y_train,epochs=100,batch_size=20000,validation_split=0.2,callbacks=callbacks)"
   ]
  },
  {
   "cell_type": "code",
   "execution_count": 30,
   "id": "80ea11c7",
   "metadata": {},
   "outputs": [
    {
     "name": "stdout",
     "output_type": "stream",
     "text": [
      "313/313 [==============================] - 0s 764us/step - loss: 0.2787 - accuracy: 0.9167\n"
     ]
    }
   ],
   "source": [
    "r=model1.evaluate(x_test_flat,y_test)\n"
   ]
  },
  {
   "cell_type": "code",
   "execution_count": 31,
   "id": "e8916817",
   "metadata": {},
   "outputs": [
    {
     "name": "stdout",
     "output_type": "stream",
     "text": [
      "test loss,test acc:  [0.2786853313446045, 0.916700005531311]\n"
     ]
    }
   ],
   "source": [
    "print('test loss,test acc: ',r)"
   ]
  },
  {
   "cell_type": "markdown",
   "id": "6f0b12be",
   "metadata": {},
   "source": [
    "***Model with Different Optimizers***\n",
    "<p><b>1)SGD</p>\n",
    "    \n",
    "    "
   ]
  },
  {
   "cell_type": "code",
   "execution_count": 33,
   "id": "6d47c5a6",
   "metadata": {},
   "outputs": [],
   "source": [
    "model2 = Sequential([\n",
    "    Dense(10,input_shape=(784,)),\n",
    "    Dropout(0.2),\n",
    "    Dense(128,activation='relu'),\n",
    "    Dropout(0.1),\n",
    "    Dense(10,activation='softmax')\n",
    "])"
   ]
  },
  {
   "cell_type": "code",
   "execution_count": 34,
   "id": "efa20910",
   "metadata": {},
   "outputs": [],
   "source": [
    "model2.compile(optimizer='sgd',loss='sparse_categorical_crossentropy',metrics=['accuracy'])"
   ]
  },
  {
   "cell_type": "code",
   "execution_count": 35,
   "id": "e2514c81",
   "metadata": {},
   "outputs": [
    {
     "name": "stdout",
     "output_type": "stream",
     "text": [
      "Epoch 1/100\n",
      "3/3 [==============================] - 1s 96ms/step - loss: 2.3648 - accuracy: 0.0813 - val_loss: 2.3491 - val_accuracy: 0.0648\n",
      "Epoch 2/100\n",
      "3/3 [==============================] - 0s 50ms/step - loss: 2.3555 - accuracy: 0.0828 - val_loss: 2.3419 - val_accuracy: 0.0698\n",
      "Epoch 3/100\n",
      "3/3 [==============================] - 0s 49ms/step - loss: 2.3494 - accuracy: 0.0863 - val_loss: 2.3352 - val_accuracy: 0.0765\n",
      "Epoch 4/100\n",
      "3/3 [==============================] - 0s 49ms/step - loss: 2.3416 - accuracy: 0.0894 - val_loss: 2.3289 - val_accuracy: 0.0843\n",
      "Epoch 5/100\n",
      "3/3 [==============================] - 0s 49ms/step - loss: 2.3359 - accuracy: 0.0942 - val_loss: 2.3230 - val_accuracy: 0.0903\n",
      "Epoch 6/100\n",
      "3/3 [==============================] - 0s 50ms/step - loss: 2.3289 - accuracy: 0.0967 - val_loss: 2.3173 - val_accuracy: 0.0978\n",
      "Epoch 7/100\n",
      "3/3 [==============================] - 0s 49ms/step - loss: 2.3240 - accuracy: 0.1013 - val_loss: 2.3119 - val_accuracy: 0.1047\n",
      "Epoch 8/100\n",
      "3/3 [==============================] - 0s 49ms/step - loss: 2.3178 - accuracy: 0.1043 - val_loss: 2.3067 - val_accuracy: 0.1120\n",
      "Epoch 9/100\n",
      "3/3 [==============================] - 0s 50ms/step - loss: 2.3129 - accuracy: 0.1110 - val_loss: 2.3016 - val_accuracy: 0.1196\n",
      "Epoch 10/100\n",
      "3/3 [==============================] - 0s 49ms/step - loss: 2.3085 - accuracy: 0.1133 - val_loss: 2.2968 - val_accuracy: 0.1274\n",
      "Epoch 11/100\n",
      "3/3 [==============================] - 0s 49ms/step - loss: 2.3032 - accuracy: 0.1216 - val_loss: 2.2920 - val_accuracy: 0.1357\n",
      "Epoch 12/100\n",
      "3/3 [==============================] - 0s 50ms/step - loss: 2.2992 - accuracy: 0.1224 - val_loss: 2.2873 - val_accuracy: 0.1451\n",
      "Epoch 13/100\n",
      "3/3 [==============================] - 0s 49ms/step - loss: 2.2937 - accuracy: 0.1296 - val_loss: 2.2828 - val_accuracy: 0.1537\n",
      "Epoch 14/100\n",
      "3/3 [==============================] - 0s 49ms/step - loss: 2.2893 - accuracy: 0.1354 - val_loss: 2.2783 - val_accuracy: 0.1620\n",
      "Epoch 15/100\n",
      "3/3 [==============================] - 0s 49ms/step - loss: 2.2849 - accuracy: 0.1408 - val_loss: 2.2738 - val_accuracy: 0.1708\n",
      "Epoch 16/100\n",
      "3/3 [==============================] - 0s 49ms/step - loss: 2.2800 - accuracy: 0.1454 - val_loss: 2.2694 - val_accuracy: 0.1813\n",
      "Epoch 17/100\n",
      "3/3 [==============================] - 0s 49ms/step - loss: 2.2770 - accuracy: 0.1488 - val_loss: 2.2652 - val_accuracy: 0.1910\n",
      "Epoch 18/100\n",
      "3/3 [==============================] - 0s 49ms/step - loss: 2.2728 - accuracy: 0.1564 - val_loss: 2.2609 - val_accuracy: 0.1993\n",
      "Epoch 19/100\n",
      "3/3 [==============================] - 0s 50ms/step - loss: 2.2684 - accuracy: 0.1613 - val_loss: 2.2566 - val_accuracy: 0.2083\n",
      "Epoch 20/100\n",
      "3/3 [==============================] - 0s 49ms/step - loss: 2.2643 - accuracy: 0.1652 - val_loss: 2.2523 - val_accuracy: 0.2149\n",
      "Epoch 21/100\n",
      "3/3 [==============================] - 0s 49ms/step - loss: 2.2597 - accuracy: 0.1743 - val_loss: 2.2480 - val_accuracy: 0.2236\n",
      "Epoch 22/100\n",
      "3/3 [==============================] - 0s 49ms/step - loss: 2.2561 - accuracy: 0.1779 - val_loss: 2.2438 - val_accuracy: 0.2292\n",
      "Epoch 23/100\n",
      "3/3 [==============================] - 0s 49ms/step - loss: 2.2515 - accuracy: 0.1864 - val_loss: 2.2395 - val_accuracy: 0.2362\n",
      "Epoch 24/100\n",
      "3/3 [==============================] - 0s 49ms/step - loss: 2.2472 - accuracy: 0.1919 - val_loss: 2.2352 - val_accuracy: 0.2432\n",
      "Epoch 25/100\n",
      "3/3 [==============================] - 0s 50ms/step - loss: 2.2432 - accuracy: 0.1992 - val_loss: 2.2309 - val_accuracy: 0.2499\n",
      "Epoch 26/100\n",
      "3/3 [==============================] - 0s 49ms/step - loss: 2.2390 - accuracy: 0.2042 - val_loss: 2.2265 - val_accuracy: 0.2558\n",
      "Epoch 27/100\n",
      "3/3 [==============================] - 0s 49ms/step - loss: 2.2343 - accuracy: 0.2084 - val_loss: 2.2221 - val_accuracy: 0.2636\n",
      "Epoch 28/100\n",
      "3/3 [==============================] - 0s 48ms/step - loss: 2.2306 - accuracy: 0.2142 - val_loss: 2.2177 - val_accuracy: 0.2713\n",
      "Epoch 29/100\n",
      "3/3 [==============================] - 0s 50ms/step - loss: 2.2259 - accuracy: 0.2218 - val_loss: 2.2132 - val_accuracy: 0.2772\n",
      "Epoch 30/100\n",
      "3/3 [==============================] - 0s 50ms/step - loss: 2.2220 - accuracy: 0.2245 - val_loss: 2.2086 - val_accuracy: 0.2859\n",
      "Epoch 31/100\n",
      "3/3 [==============================] - 0s 49ms/step - loss: 2.2184 - accuracy: 0.2286 - val_loss: 2.2040 - val_accuracy: 0.2923\n",
      "Epoch 32/100\n",
      "3/3 [==============================] - 0s 49ms/step - loss: 2.2127 - accuracy: 0.2364 - val_loss: 2.1994 - val_accuracy: 0.3018\n",
      "Epoch 33/100\n",
      "3/3 [==============================] - 0s 50ms/step - loss: 2.2089 - accuracy: 0.2388 - val_loss: 2.1947 - val_accuracy: 0.3069\n",
      "Epoch 34/100\n",
      "3/3 [==============================] - 0s 49ms/step - loss: 2.2043 - accuracy: 0.2461 - val_loss: 2.1899 - val_accuracy: 0.3131\n",
      "Epoch 35/100\n",
      "3/3 [==============================] - 0s 49ms/step - loss: 2.1997 - accuracy: 0.2535 - val_loss: 2.1850 - val_accuracy: 0.3181\n",
      "Epoch 36/100\n",
      "3/3 [==============================] - 0s 50ms/step - loss: 2.1952 - accuracy: 0.2556 - val_loss: 2.1801 - val_accuracy: 0.3238\n",
      "Epoch 37/100\n",
      "3/3 [==============================] - 0s 49ms/step - loss: 2.1894 - accuracy: 0.2626 - val_loss: 2.1750 - val_accuracy: 0.3295\n",
      "Epoch 38/100\n",
      "3/3 [==============================] - 0s 50ms/step - loss: 2.1852 - accuracy: 0.2655 - val_loss: 2.1699 - val_accuracy: 0.3345\n",
      "Epoch 39/100\n",
      "3/3 [==============================] - 0s 50ms/step - loss: 2.1806 - accuracy: 0.2707 - val_loss: 2.1647 - val_accuracy: 0.3390\n",
      "Epoch 40/100\n",
      "3/3 [==============================] - 0s 49ms/step - loss: 2.1754 - accuracy: 0.2762 - val_loss: 2.1595 - val_accuracy: 0.3456\n",
      "Epoch 41/100\n",
      "3/3 [==============================] - 0s 50ms/step - loss: 2.1715 - accuracy: 0.2793 - val_loss: 2.1541 - val_accuracy: 0.3528\n",
      "Epoch 42/100\n",
      "3/3 [==============================] - 0s 49ms/step - loss: 2.1652 - accuracy: 0.2847 - val_loss: 2.1486 - val_accuracy: 0.3585\n",
      "Epoch 43/100\n",
      "3/3 [==============================] - 0s 49ms/step - loss: 2.1606 - accuracy: 0.2887 - val_loss: 2.1431 - val_accuracy: 0.3629\n",
      "Epoch 44/100\n",
      "3/3 [==============================] - 0s 51ms/step - loss: 2.1548 - accuracy: 0.2932 - val_loss: 2.1375 - val_accuracy: 0.3697\n",
      "Epoch 45/100\n",
      "3/3 [==============================] - 0s 49ms/step - loss: 2.1501 - accuracy: 0.2975 - val_loss: 2.1318 - val_accuracy: 0.3740\n",
      "Epoch 46/100\n",
      "3/3 [==============================] - 0s 50ms/step - loss: 2.1444 - accuracy: 0.3058 - val_loss: 2.1260 - val_accuracy: 0.3782\n",
      "Epoch 47/100\n",
      "3/3 [==============================] - 0s 50ms/step - loss: 2.1395 - accuracy: 0.3052 - val_loss: 2.1201 - val_accuracy: 0.3819\n",
      "Epoch 48/100\n",
      "3/3 [==============================] - 0s 49ms/step - loss: 2.1324 - accuracy: 0.3114 - val_loss: 2.1141 - val_accuracy: 0.3864\n",
      "Epoch 49/100\n",
      "3/3 [==============================] - 0s 49ms/step - loss: 2.1284 - accuracy: 0.3142 - val_loss: 2.1081 - val_accuracy: 0.3907\n",
      "Epoch 50/100\n",
      "3/3 [==============================] - 0s 50ms/step - loss: 2.1225 - accuracy: 0.3181 - val_loss: 2.1019 - val_accuracy: 0.3957\n",
      "Epoch 51/100\n",
      "3/3 [==============================] - 0s 50ms/step - loss: 2.1166 - accuracy: 0.3227 - val_loss: 2.0957 - val_accuracy: 0.3997\n",
      "Epoch 52/100\n",
      "3/3 [==============================] - 0s 49ms/step - loss: 2.1109 - accuracy: 0.3251 - val_loss: 2.0893 - val_accuracy: 0.4041\n",
      "Epoch 53/100\n",
      "3/3 [==============================] - 0s 50ms/step - loss: 2.1047 - accuracy: 0.3318 - val_loss: 2.0829 - val_accuracy: 0.4095\n",
      "Epoch 54/100\n",
      "3/3 [==============================] - 0s 49ms/step - loss: 2.1001 - accuracy: 0.3300 - val_loss: 2.0764 - val_accuracy: 0.4137\n",
      "Epoch 55/100\n",
      "3/3 [==============================] - 0s 53ms/step - loss: 2.0933 - accuracy: 0.3371 - val_loss: 2.0698 - val_accuracy: 0.4186\n",
      "Epoch 56/100\n",
      "3/3 [==============================] - 0s 49ms/step - loss: 2.0860 - accuracy: 0.3444 - val_loss: 2.0631 - val_accuracy: 0.4218\n",
      "Epoch 57/100\n",
      "3/3 [==============================] - 0s 49ms/step - loss: 2.0804 - accuracy: 0.3432 - val_loss: 2.0563 - val_accuracy: 0.4257\n",
      "Epoch 58/100\n",
      "3/3 [==============================] - 0s 49ms/step - loss: 2.0747 - accuracy: 0.3449 - val_loss: 2.0495 - val_accuracy: 0.4302\n",
      "Epoch 59/100\n",
      "3/3 [==============================] - 0s 49ms/step - loss: 2.0677 - accuracy: 0.3505 - val_loss: 2.0426 - val_accuracy: 0.4347\n",
      "Epoch 60/100\n",
      "3/3 [==============================] - 0s 49ms/step - loss: 2.0619 - accuracy: 0.3549 - val_loss: 2.0355 - val_accuracy: 0.4374\n",
      "Epoch 61/100\n",
      "3/3 [==============================] - 0s 49ms/step - loss: 2.0564 - accuracy: 0.3559 - val_loss: 2.0285 - val_accuracy: 0.4409\n",
      "Epoch 62/100\n",
      "3/3 [==============================] - 0s 49ms/step - loss: 2.0485 - accuracy: 0.3578 - val_loss: 2.0213 - val_accuracy: 0.4450\n",
      "Epoch 63/100\n",
      "3/3 [==============================] - 0s 49ms/step - loss: 2.0425 - accuracy: 0.3646 - val_loss: 2.0140 - val_accuracy: 0.4493\n",
      "Epoch 64/100\n",
      "3/3 [==============================] - 0s 48ms/step - loss: 2.0357 - accuracy: 0.3658 - val_loss: 2.0067 - val_accuracy: 0.4518\n",
      "Epoch 65/100\n",
      "3/3 [==============================] - 0s 48ms/step - loss: 2.0285 - accuracy: 0.3697 - val_loss: 1.9993 - val_accuracy: 0.4551\n",
      "Epoch 66/100\n",
      "3/3 [==============================] - 0s 48ms/step - loss: 2.0216 - accuracy: 0.3731 - val_loss: 1.9918 - val_accuracy: 0.4590\n",
      "Epoch 67/100\n",
      "3/3 [==============================] - 0s 48ms/step - loss: 2.0149 - accuracy: 0.3774 - val_loss: 1.9843 - val_accuracy: 0.4634\n",
      "Epoch 68/100\n",
      "3/3 [==============================] - 0s 49ms/step - loss: 2.0077 - accuracy: 0.3818 - val_loss: 1.9766 - val_accuracy: 0.4682\n",
      "Epoch 69/100\n",
      "3/3 [==============================] - 0s 48ms/step - loss: 2.0006 - accuracy: 0.3845 - val_loss: 1.9689 - val_accuracy: 0.4726\n",
      "Epoch 70/100\n",
      "3/3 [==============================] - 0s 49ms/step - loss: 1.9960 - accuracy: 0.3841 - val_loss: 1.9612 - val_accuracy: 0.4762\n",
      "Epoch 71/100\n",
      "3/3 [==============================] - 0s 48ms/step - loss: 1.9870 - accuracy: 0.3917 - val_loss: 1.9534 - val_accuracy: 0.4797\n",
      "Epoch 72/100\n",
      "3/3 [==============================] - 0s 49ms/step - loss: 1.9797 - accuracy: 0.3937 - val_loss: 1.9455 - val_accuracy: 0.4846\n",
      "Epoch 73/100\n",
      "3/3 [==============================] - 0s 49ms/step - loss: 1.9734 - accuracy: 0.3965 - val_loss: 1.9376 - val_accuracy: 0.4889\n",
      "Epoch 74/100\n",
      "3/3 [==============================] - 0s 50ms/step - loss: 1.9655 - accuracy: 0.3988 - val_loss: 1.9296 - val_accuracy: 0.4931\n",
      "Epoch 75/100\n",
      "3/3 [==============================] - 0s 49ms/step - loss: 1.9582 - accuracy: 0.4026 - val_loss: 1.9215 - val_accuracy: 0.4975\n",
      "Epoch 76/100\n",
      "3/3 [==============================] - 0s 49ms/step - loss: 1.9531 - accuracy: 0.4044 - val_loss: 1.9134 - val_accuracy: 0.5003\n",
      "Epoch 77/100\n",
      "3/3 [==============================] - 0s 50ms/step - loss: 1.9457 - accuracy: 0.4074 - val_loss: 1.9053 - val_accuracy: 0.5038\n",
      "Epoch 78/100\n",
      "3/3 [==============================] - 0s 50ms/step - loss: 1.9368 - accuracy: 0.4109 - val_loss: 1.8971 - val_accuracy: 0.5082\n",
      "Epoch 79/100\n",
      "3/3 [==============================] - 0s 47ms/step - loss: 1.9296 - accuracy: 0.4152 - val_loss: 1.8888 - val_accuracy: 0.5109\n",
      "Epoch 80/100\n",
      "3/3 [==============================] - 0s 49ms/step - loss: 1.9212 - accuracy: 0.4158 - val_loss: 1.8805 - val_accuracy: 0.5139\n",
      "Epoch 81/100\n",
      "3/3 [==============================] - 0s 49ms/step - loss: 1.9154 - accuracy: 0.4201 - val_loss: 1.8721 - val_accuracy: 0.5166\n",
      "Epoch 82/100\n",
      "3/3 [==============================] - 0s 48ms/step - loss: 1.9065 - accuracy: 0.4233 - val_loss: 1.8637 - val_accuracy: 0.5203\n",
      "Epoch 83/100\n",
      "3/3 [==============================] - 0s 49ms/step - loss: 1.8996 - accuracy: 0.4257 - val_loss: 1.8552 - val_accuracy: 0.5241\n",
      "Epoch 84/100\n",
      "3/3 [==============================] - 0s 49ms/step - loss: 1.8931 - accuracy: 0.4283 - val_loss: 1.8468 - val_accuracy: 0.5278\n",
      "Epoch 85/100\n",
      "3/3 [==============================] - 0s 49ms/step - loss: 1.8861 - accuracy: 0.4301 - val_loss: 1.8383 - val_accuracy: 0.5307\n",
      "Epoch 86/100\n",
      "3/3 [==============================] - 0s 50ms/step - loss: 1.8775 - accuracy: 0.4368 - val_loss: 1.8297 - val_accuracy: 0.5345\n",
      "Epoch 87/100\n",
      "3/3 [==============================] - 0s 49ms/step - loss: 1.8712 - accuracy: 0.4378 - val_loss: 1.8211 - val_accuracy: 0.5379\n",
      "Epoch 88/100\n",
      "3/3 [==============================] - 0s 49ms/step - loss: 1.8621 - accuracy: 0.4424 - val_loss: 1.8125 - val_accuracy: 0.5412\n",
      "Epoch 89/100\n",
      "3/3 [==============================] - 0s 48ms/step - loss: 1.8536 - accuracy: 0.4456 - val_loss: 1.8038 - val_accuracy: 0.5437\n",
      "Epoch 90/100\n",
      "3/3 [==============================] - 0s 50ms/step - loss: 1.8477 - accuracy: 0.4485 - val_loss: 1.7951 - val_accuracy: 0.5483\n",
      "Epoch 91/100\n",
      "3/3 [==============================] - 0s 49ms/step - loss: 1.8378 - accuracy: 0.4517 - val_loss: 1.7863 - val_accuracy: 0.5520\n",
      "Epoch 92/100\n",
      "3/3 [==============================] - 0s 50ms/step - loss: 1.8324 - accuracy: 0.4513 - val_loss: 1.7776 - val_accuracy: 0.5545\n",
      "Epoch 93/100\n",
      "3/3 [==============================] - 0s 49ms/step - loss: 1.8239 - accuracy: 0.4551 - val_loss: 1.7687 - val_accuracy: 0.5577\n",
      "Epoch 94/100\n",
      "3/3 [==============================] - 0s 49ms/step - loss: 1.8174 - accuracy: 0.4581 - val_loss: 1.7599 - val_accuracy: 0.5613\n",
      "Epoch 95/100\n",
      "3/3 [==============================] - 0s 49ms/step - loss: 1.8071 - accuracy: 0.4649 - val_loss: 1.7510 - val_accuracy: 0.5644\n",
      "Epoch 96/100\n",
      "3/3 [==============================] - 0s 49ms/step - loss: 1.8002 - accuracy: 0.4666 - val_loss: 1.7421 - val_accuracy: 0.5673\n",
      "Epoch 97/100\n",
      "3/3 [==============================] - 0s 49ms/step - loss: 1.7924 - accuracy: 0.4679 - val_loss: 1.7332 - val_accuracy: 0.5705\n",
      "Epoch 98/100\n",
      "3/3 [==============================] - 0s 46ms/step - loss: 1.7842 - accuracy: 0.4712 - val_loss: 1.7242 - val_accuracy: 0.5735\n",
      "Epoch 99/100\n",
      "3/3 [==============================] - 0s 46ms/step - loss: 1.7801 - accuracy: 0.4703 - val_loss: 1.7153 - val_accuracy: 0.5768\n",
      "Epoch 100/100\n",
      "3/3 [==============================] - 0s 47ms/step - loss: 1.7688 - accuracy: 0.4749 - val_loss: 1.7064 - val_accuracy: 0.5802\n"
     ]
    },
    {
     "data": {
      "text/plain": [
       "<keras.callbacks.History at 0x285cdfb4f10>"
      ]
     },
     "execution_count": 35,
     "metadata": {},
     "output_type": "execute_result"
    }
   ],
   "source": [
    "callbacks=[EarlyStopping(monitor='val_accuracy',patience=3)]\n",
    "model2.fit(x_train_flat,y_train,epochs=100,batch_size=20000,validation_split=0.2,callbacks=callbacks)"
   ]
  },
  {
   "cell_type": "code",
   "execution_count": 39,
   "id": "89aa0946",
   "metadata": {},
   "outputs": [
    {
     "name": "stdout",
     "output_type": "stream",
     "text": [
      "313/313 [==============================] - 0s 664us/step - loss: 1.6963 - accuracy: 0.5813\n"
     ]
    }
   ],
   "source": [
    "result2=model2.evaluate(x_test_flat,y_test)"
   ]
  },
  {
   "cell_type": "code",
   "execution_count": 40,
   "id": "18f5c15a",
   "metadata": {},
   "outputs": [
    {
     "name": "stdout",
     "output_type": "stream",
     "text": [
      "test loss,test acc:  [1.6962697505950928, 0.5813000202178955]\n"
     ]
    }
   ],
   "source": [
    "print('test loss,test acc: ',result2)"
   ]
  },
  {
   "cell_type": "markdown",
   "id": "aa73c0ef",
   "metadata": {},
   "source": [
    "<p><b>2)Adagrad</p>"
   ]
  },
  {
   "cell_type": "code",
   "execution_count": 51,
   "id": "eae1d65b",
   "metadata": {},
   "outputs": [],
   "source": [
    "model3 = Sequential([\n",
    "    Dense(10,input_shape=(784,)),\n",
    "    Dropout(0.2),\n",
    "    Dense(128,activation='relu'),\n",
    "    Dropout(0.1),\n",
    "    Dense(10,activation='softmax')\n",
    "])"
   ]
  },
  {
   "cell_type": "code",
   "execution_count": 52,
   "id": "22896df4",
   "metadata": {},
   "outputs": [],
   "source": [
    "model3.compile(optimizer='Adagrad',loss='sparse_categorical_crossentropy',metrics=['accuracy'])"
   ]
  },
  {
   "cell_type": "code",
   "execution_count": 50,
   "id": "cb7be143",
   "metadata": {},
   "outputs": [
    {
     "name": "stdout",
     "output_type": "stream",
     "text": [
      "Epoch 1/100\n",
      "3/3 [==============================] - 1s 108ms/step - loss: 2.3411 - accuracy: 0.0794 - val_loss: 2.3342 - val_accuracy: 0.0671\n",
      "Epoch 2/100\n",
      "3/3 [==============================] - 0s 49ms/step - loss: 2.3387 - accuracy: 0.0779 - val_loss: 2.3318 - val_accuracy: 0.0688\n",
      "Epoch 3/100\n",
      "3/3 [==============================] - 0s 49ms/step - loss: 2.3362 - accuracy: 0.0806 - val_loss: 2.3295 - val_accuracy: 0.0706\n",
      "Epoch 4/100\n",
      "3/3 [==============================] - 0s 49ms/step - loss: 2.3343 - accuracy: 0.0824 - val_loss: 2.3272 - val_accuracy: 0.0728\n",
      "Epoch 5/100\n",
      "3/3 [==============================] - 0s 51ms/step - loss: 2.3313 - accuracy: 0.0855 - val_loss: 2.3249 - val_accuracy: 0.0744\n",
      "Epoch 6/100\n",
      "3/3 [==============================] - 0s 52ms/step - loss: 2.3299 - accuracy: 0.0860 - val_loss: 2.3227 - val_accuracy: 0.0763\n",
      "Epoch 7/100\n",
      "3/3 [==============================] - 0s 54ms/step - loss: 2.3277 - accuracy: 0.0874 - val_loss: 2.3205 - val_accuracy: 0.0777\n",
      "Epoch 8/100\n",
      "3/3 [==============================] - 0s 49ms/step - loss: 2.3248 - accuracy: 0.0891 - val_loss: 2.3183 - val_accuracy: 0.0794\n",
      "Epoch 9/100\n",
      "3/3 [==============================] - 0s 48ms/step - loss: 2.3232 - accuracy: 0.0907 - val_loss: 2.3162 - val_accuracy: 0.0818\n",
      "Epoch 10/100\n",
      "3/3 [==============================] - 0s 49ms/step - loss: 2.3211 - accuracy: 0.0919 - val_loss: 2.3141 - val_accuracy: 0.0840\n",
      "Epoch 11/100\n",
      "3/3 [==============================] - 0s 58ms/step - loss: 2.3188 - accuracy: 0.0957 - val_loss: 2.3120 - val_accuracy: 0.0868\n",
      "Epoch 12/100\n",
      "3/3 [==============================] - 0s 58ms/step - loss: 2.3173 - accuracy: 0.0953 - val_loss: 2.3100 - val_accuracy: 0.0889\n",
      "Epoch 13/100\n",
      "3/3 [==============================] - 0s 50ms/step - loss: 2.3150 - accuracy: 0.0980 - val_loss: 2.3079 - val_accuracy: 0.0916\n",
      "Epoch 14/100\n",
      "3/3 [==============================] - 0s 52ms/step - loss: 2.3125 - accuracy: 0.0987 - val_loss: 2.3059 - val_accuracy: 0.0943\n",
      "Epoch 15/100\n",
      "3/3 [==============================] - 0s 49ms/step - loss: 2.3099 - accuracy: 0.1040 - val_loss: 2.3040 - val_accuracy: 0.0967\n",
      "Epoch 16/100\n",
      "3/3 [==============================] - 0s 55ms/step - loss: 2.3101 - accuracy: 0.1034 - val_loss: 2.3020 - val_accuracy: 0.0996\n",
      "Epoch 17/100\n",
      "3/3 [==============================] - 0s 55ms/step - loss: 2.3067 - accuracy: 0.1044 - val_loss: 2.3001 - val_accuracy: 0.1025\n",
      "Epoch 18/100\n",
      "3/3 [==============================] - 0s 53ms/step - loss: 2.3058 - accuracy: 0.1072 - val_loss: 2.2982 - val_accuracy: 0.1056\n",
      "Epoch 19/100\n",
      "3/3 [==============================] - 0s 53ms/step - loss: 2.3035 - accuracy: 0.1089 - val_loss: 2.2964 - val_accuracy: 0.1081\n",
      "Epoch 20/100\n",
      "3/3 [==============================] - 0s 54ms/step - loss: 2.3015 - accuracy: 0.1134 - val_loss: 2.2945 - val_accuracy: 0.1105\n",
      "Epoch 21/100\n",
      "3/3 [==============================] - 0s 50ms/step - loss: 2.3002 - accuracy: 0.1122 - val_loss: 2.2927 - val_accuracy: 0.1132\n",
      "Epoch 22/100\n",
      "3/3 [==============================] - 0s 63ms/step - loss: 2.2982 - accuracy: 0.1156 - val_loss: 2.2909 - val_accuracy: 0.1163\n",
      "Epoch 23/100\n",
      "3/3 [==============================] - 0s 54ms/step - loss: 2.2961 - accuracy: 0.1175 - val_loss: 2.2891 - val_accuracy: 0.1190\n",
      "Epoch 24/100\n",
      "3/3 [==============================] - 0s 53ms/step - loss: 2.2951 - accuracy: 0.1171 - val_loss: 2.2873 - val_accuracy: 0.1220\n",
      "Epoch 25/100\n",
      "3/3 [==============================] - 0s 56ms/step - loss: 2.2928 - accuracy: 0.1218 - val_loss: 2.2855 - val_accuracy: 0.1246\n",
      "Epoch 26/100\n",
      "3/3 [==============================] - 0s 58ms/step - loss: 2.2913 - accuracy: 0.1231 - val_loss: 2.2838 - val_accuracy: 0.1268\n",
      "Epoch 27/100\n",
      "3/3 [==============================] - 0s 54ms/step - loss: 2.2899 - accuracy: 0.1246 - val_loss: 2.2821 - val_accuracy: 0.1301\n",
      "Epoch 28/100\n",
      "3/3 [==============================] - 0s 52ms/step - loss: 2.2882 - accuracy: 0.1248 - val_loss: 2.2804 - val_accuracy: 0.1322\n",
      "Epoch 29/100\n",
      "3/3 [==============================] - 0s 54ms/step - loss: 2.2856 - accuracy: 0.1283 - val_loss: 2.2787 - val_accuracy: 0.1346\n",
      "Epoch 30/100\n",
      "3/3 [==============================] - 0s 55ms/step - loss: 2.2843 - accuracy: 0.1309 - val_loss: 2.2770 - val_accuracy: 0.1377\n",
      "Epoch 31/100\n",
      "3/3 [==============================] - 0s 54ms/step - loss: 2.2832 - accuracy: 0.1299 - val_loss: 2.2753 - val_accuracy: 0.1401\n",
      "Epoch 32/100\n",
      "3/3 [==============================] - 0s 63ms/step - loss: 2.2809 - accuracy: 0.1337 - val_loss: 2.2737 - val_accuracy: 0.1423\n",
      "Epoch 33/100\n",
      "3/3 [==============================] - 0s 51ms/step - loss: 2.2790 - accuracy: 0.1368 - val_loss: 2.2720 - val_accuracy: 0.1452\n",
      "Epoch 34/100\n",
      "3/3 [==============================] - 0s 52ms/step - loss: 2.2777 - accuracy: 0.1362 - val_loss: 2.2704 - val_accuracy: 0.1478\n",
      "Epoch 35/100\n",
      "3/3 [==============================] - 0s 50ms/step - loss: 2.2771 - accuracy: 0.1394 - val_loss: 2.2687 - val_accuracy: 0.1503\n",
      "Epoch 36/100\n",
      "3/3 [==============================] - 0s 50ms/step - loss: 2.2756 - accuracy: 0.1404 - val_loss: 2.2671 - val_accuracy: 0.1519\n",
      "Epoch 37/100\n",
      "3/3 [==============================] - 0s 50ms/step - loss: 2.2730 - accuracy: 0.1430 - val_loss: 2.2655 - val_accuracy: 0.1543\n",
      "Epoch 38/100\n",
      "3/3 [==============================] - 0s 50ms/step - loss: 2.2713 - accuracy: 0.1454 - val_loss: 2.2639 - val_accuracy: 0.1567\n",
      "Epoch 39/100\n",
      "3/3 [==============================] - 0s 49ms/step - loss: 2.2700 - accuracy: 0.1474 - val_loss: 2.2623 - val_accuracy: 0.1589\n",
      "Epoch 40/100\n",
      "3/3 [==============================] - 0s 49ms/step - loss: 2.2691 - accuracy: 0.1469 - val_loss: 2.2607 - val_accuracy: 0.1611\n",
      "Epoch 41/100\n",
      "3/3 [==============================] - 0s 50ms/step - loss: 2.2666 - accuracy: 0.1496 - val_loss: 2.2591 - val_accuracy: 0.1634\n",
      "Epoch 42/100\n",
      "3/3 [==============================] - 0s 49ms/step - loss: 2.2656 - accuracy: 0.1510 - val_loss: 2.2576 - val_accuracy: 0.1653\n",
      "Epoch 43/100\n",
      "3/3 [==============================] - 0s 49ms/step - loss: 2.2640 - accuracy: 0.1528 - val_loss: 2.2560 - val_accuracy: 0.1672\n",
      "Epoch 44/100\n",
      "3/3 [==============================] - 0s 49ms/step - loss: 2.2621 - accuracy: 0.1527 - val_loss: 2.2544 - val_accuracy: 0.1691\n",
      "Epoch 45/100\n",
      "3/3 [==============================] - 0s 53ms/step - loss: 2.2610 - accuracy: 0.1554 - val_loss: 2.2529 - val_accuracy: 0.1710\n",
      "Epoch 46/100\n",
      "3/3 [==============================] - 0s 49ms/step - loss: 2.2601 - accuracy: 0.1575 - val_loss: 2.2513 - val_accuracy: 0.1728\n",
      "Epoch 47/100\n",
      "3/3 [==============================] - 0s 49ms/step - loss: 2.2576 - accuracy: 0.1600 - val_loss: 2.2498 - val_accuracy: 0.1745\n",
      "Epoch 48/100\n",
      "3/3 [==============================] - 0s 49ms/step - loss: 2.2563 - accuracy: 0.1611 - val_loss: 2.2482 - val_accuracy: 0.1764\n",
      "Epoch 49/100\n",
      "3/3 [==============================] - 0s 50ms/step - loss: 2.2558 - accuracy: 0.1607 - val_loss: 2.2467 - val_accuracy: 0.1789\n",
      "Epoch 50/100\n",
      "3/3 [==============================] - 0s 49ms/step - loss: 2.2537 - accuracy: 0.1660 - val_loss: 2.2451 - val_accuracy: 0.1799\n",
      "Epoch 51/100\n",
      "3/3 [==============================] - 0s 49ms/step - loss: 2.2518 - accuracy: 0.1678 - val_loss: 2.2436 - val_accuracy: 0.1823\n",
      "Epoch 52/100\n",
      "3/3 [==============================] - 0s 50ms/step - loss: 2.2503 - accuracy: 0.1674 - val_loss: 2.2421 - val_accuracy: 0.1837\n",
      "Epoch 53/100\n",
      "3/3 [==============================] - 0s 49ms/step - loss: 2.2487 - accuracy: 0.1684 - val_loss: 2.2405 - val_accuracy: 0.1857\n",
      "Epoch 54/100\n",
      "3/3 [==============================] - 0s 49ms/step - loss: 2.2472 - accuracy: 0.1706 - val_loss: 2.2390 - val_accuracy: 0.1873\n",
      "Epoch 55/100\n",
      "3/3 [==============================] - 0s 49ms/step - loss: 2.2466 - accuracy: 0.1684 - val_loss: 2.2375 - val_accuracy: 0.1894\n",
      "Epoch 56/100\n",
      "3/3 [==============================] - 0s 49ms/step - loss: 2.2449 - accuracy: 0.1748 - val_loss: 2.2360 - val_accuracy: 0.1908\n",
      "Epoch 57/100\n",
      "3/3 [==============================] - 0s 48ms/step - loss: 2.2430 - accuracy: 0.1737 - val_loss: 2.2345 - val_accuracy: 0.1922\n",
      "Epoch 58/100\n",
      "3/3 [==============================] - 0s 51ms/step - loss: 2.2416 - accuracy: 0.1763 - val_loss: 2.2330 - val_accuracy: 0.1933\n",
      "Epoch 59/100\n",
      "3/3 [==============================] - 0s 49ms/step - loss: 2.2395 - accuracy: 0.1778 - val_loss: 2.2314 - val_accuracy: 0.1942\n",
      "Epoch 60/100\n",
      "3/3 [==============================] - 0s 49ms/step - loss: 2.2385 - accuracy: 0.1790 - val_loss: 2.2299 - val_accuracy: 0.1963\n",
      "Epoch 61/100\n",
      "3/3 [==============================] - 0s 48ms/step - loss: 2.2372 - accuracy: 0.1798 - val_loss: 2.2284 - val_accuracy: 0.1991\n",
      "Epoch 62/100\n",
      "3/3 [==============================] - 0s 49ms/step - loss: 2.2359 - accuracy: 0.1808 - val_loss: 2.2269 - val_accuracy: 0.2006\n",
      "Epoch 63/100\n",
      "3/3 [==============================] - 0s 49ms/step - loss: 2.2344 - accuracy: 0.1836 - val_loss: 2.2254 - val_accuracy: 0.2023\n",
      "Epoch 64/100\n",
      "3/3 [==============================] - 0s 50ms/step - loss: 2.2330 - accuracy: 0.1842 - val_loss: 2.2239 - val_accuracy: 0.2039\n",
      "Epoch 65/100\n",
      "3/3 [==============================] - 0s 49ms/step - loss: 2.2318 - accuracy: 0.1860 - val_loss: 2.2224 - val_accuracy: 0.2049\n",
      "Epoch 66/100\n",
      "3/3 [==============================] - 0s 48ms/step - loss: 2.2296 - accuracy: 0.1879 - val_loss: 2.2209 - val_accuracy: 0.2067\n",
      "Epoch 67/100\n",
      "3/3 [==============================] - 0s 49ms/step - loss: 2.2287 - accuracy: 0.1876 - val_loss: 2.2194 - val_accuracy: 0.2092\n",
      "Epoch 68/100\n",
      "3/3 [==============================] - 0s 49ms/step - loss: 2.2265 - accuracy: 0.1900 - val_loss: 2.2179 - val_accuracy: 0.2107\n",
      "Epoch 69/100\n",
      "3/3 [==============================] - 0s 49ms/step - loss: 2.2255 - accuracy: 0.1898 - val_loss: 2.2163 - val_accuracy: 0.2124\n",
      "Epoch 70/100\n",
      "3/3 [==============================] - 0s 49ms/step - loss: 2.2244 - accuracy: 0.1914 - val_loss: 2.2148 - val_accuracy: 0.2136\n",
      "Epoch 71/100\n",
      "3/3 [==============================] - 0s 49ms/step - loss: 2.2228 - accuracy: 0.1929 - val_loss: 2.2133 - val_accuracy: 0.2151\n",
      "Epoch 72/100\n",
      "3/3 [==============================] - 0s 49ms/step - loss: 2.2218 - accuracy: 0.1953 - val_loss: 2.2118 - val_accuracy: 0.2173\n",
      "Epoch 73/100\n",
      "3/3 [==============================] - 0s 48ms/step - loss: 2.2198 - accuracy: 0.1970 - val_loss: 2.2103 - val_accuracy: 0.2185\n",
      "Epoch 74/100\n",
      "3/3 [==============================] - 0s 48ms/step - loss: 2.2187 - accuracy: 0.1971 - val_loss: 2.2088 - val_accuracy: 0.2198\n",
      "Epoch 75/100\n",
      "3/3 [==============================] - 0s 49ms/step - loss: 2.2173 - accuracy: 0.1982 - val_loss: 2.2072 - val_accuracy: 0.2218\n",
      "Epoch 76/100\n",
      "3/3 [==============================] - 0s 49ms/step - loss: 2.2158 - accuracy: 0.2003 - val_loss: 2.2057 - val_accuracy: 0.2240\n",
      "Epoch 77/100\n",
      "3/3 [==============================] - 0s 49ms/step - loss: 2.2138 - accuracy: 0.2013 - val_loss: 2.2042 - val_accuracy: 0.2250\n",
      "Epoch 78/100\n",
      "3/3 [==============================] - 0s 49ms/step - loss: 2.2127 - accuracy: 0.2017 - val_loss: 2.2027 - val_accuracy: 0.2269\n",
      "Epoch 79/100\n",
      "3/3 [==============================] - 0s 52ms/step - loss: 2.2122 - accuracy: 0.2032 - val_loss: 2.2011 - val_accuracy: 0.2279\n",
      "Epoch 80/100\n",
      "3/3 [==============================] - 0s 50ms/step - loss: 2.2096 - accuracy: 0.2046 - val_loss: 2.1996 - val_accuracy: 0.2297\n",
      "Epoch 81/100\n",
      "3/3 [==============================] - 0s 54ms/step - loss: 2.2082 - accuracy: 0.2079 - val_loss: 2.1981 - val_accuracy: 0.2313\n",
      "Epoch 82/100\n",
      "3/3 [==============================] - 0s 49ms/step - loss: 2.2072 - accuracy: 0.2061 - val_loss: 2.1966 - val_accuracy: 0.2329\n",
      "Epoch 83/100\n",
      "3/3 [==============================] - 0s 50ms/step - loss: 2.2055 - accuracy: 0.2103 - val_loss: 2.1950 - val_accuracy: 0.2341\n",
      "Epoch 84/100\n",
      "3/3 [==============================] - 0s 49ms/step - loss: 2.2041 - accuracy: 0.2090 - val_loss: 2.1935 - val_accuracy: 0.2356\n",
      "Epoch 85/100\n",
      "3/3 [==============================] - 0s 50ms/step - loss: 2.2026 - accuracy: 0.2112 - val_loss: 2.1920 - val_accuracy: 0.2378\n",
      "Epoch 86/100\n",
      "3/3 [==============================] - 0s 59ms/step - loss: 2.2012 - accuracy: 0.2122 - val_loss: 2.1904 - val_accuracy: 0.2406\n",
      "Epoch 87/100\n",
      "3/3 [==============================] - 0s 49ms/step - loss: 2.1992 - accuracy: 0.2145 - val_loss: 2.1889 - val_accuracy: 0.2427\n",
      "Epoch 88/100\n",
      "3/3 [==============================] - 0s 48ms/step - loss: 2.1987 - accuracy: 0.2144 - val_loss: 2.1873 - val_accuracy: 0.2453\n",
      "Epoch 89/100\n",
      "3/3 [==============================] - 0s 57ms/step - loss: 2.1969 - accuracy: 0.2149 - val_loss: 2.1858 - val_accuracy: 0.2463\n",
      "Epoch 90/100\n",
      "3/3 [==============================] - 0s 53ms/step - loss: 2.1955 - accuracy: 0.2167 - val_loss: 2.1842 - val_accuracy: 0.2485\n",
      "Epoch 91/100\n",
      "3/3 [==============================] - 0s 51ms/step - loss: 2.1939 - accuracy: 0.2170 - val_loss: 2.1827 - val_accuracy: 0.2499\n",
      "Epoch 92/100\n",
      "3/3 [==============================] - 0s 49ms/step - loss: 2.1910 - accuracy: 0.2235 - val_loss: 2.1811 - val_accuracy: 0.2513\n",
      "Epoch 93/100\n",
      "3/3 [==============================] - 0s 49ms/step - loss: 2.1902 - accuracy: 0.2227 - val_loss: 2.1796 - val_accuracy: 0.2529\n",
      "Epoch 94/100\n",
      "3/3 [==============================] - 0s 49ms/step - loss: 2.1890 - accuracy: 0.2220 - val_loss: 2.1780 - val_accuracy: 0.2541\n",
      "Epoch 95/100\n",
      "3/3 [==============================] - 0s 50ms/step - loss: 2.1867 - accuracy: 0.2238 - val_loss: 2.1764 - val_accuracy: 0.2557\n",
      "Epoch 96/100\n",
      "3/3 [==============================] - 0s 58ms/step - loss: 2.1866 - accuracy: 0.2234 - val_loss: 2.1748 - val_accuracy: 0.2573\n",
      "Epoch 97/100\n",
      "3/3 [==============================] - 0s 50ms/step - loss: 2.1845 - accuracy: 0.2256 - val_loss: 2.1733 - val_accuracy: 0.2586\n",
      "Epoch 98/100\n",
      "3/3 [==============================] - 0s 52ms/step - loss: 2.1841 - accuracy: 0.2255 - val_loss: 2.1717 - val_accuracy: 0.2607\n",
      "Epoch 99/100\n",
      "3/3 [==============================] - 0s 51ms/step - loss: 2.1829 - accuracy: 0.2270 - val_loss: 2.1701 - val_accuracy: 0.2628\n",
      "Epoch 100/100\n",
      "3/3 [==============================] - 0s 45ms/step - loss: 2.1802 - accuracy: 0.2301 - val_loss: 2.1685 - val_accuracy: 0.2641\n"
     ]
    },
    {
     "data": {
      "text/plain": [
       "<keras.callbacks.History at 0x2858d46b400>"
      ]
     },
     "execution_count": 50,
     "metadata": {},
     "output_type": "execute_result"
    }
   ],
   "source": [
    "callbacks=[EarlyStopping(monitor='val_accuracy',patience=3)]\n",
    "model3.fit(x_train_flat,y_train,epochs=100,batch_size=20000,validation_split=0.2,callbacks=callbacks)"
   ]
  },
  {
   "cell_type": "code",
   "execution_count": 44,
   "id": "11bef1a6",
   "metadata": {},
   "outputs": [
    {
     "name": "stdout",
     "output_type": "stream",
     "text": [
      "313/313 [==============================] - 0s 767us/step - loss: 1.4677 - accuracy: 0.6492\n"
     ]
    }
   ],
   "source": [
    "result3=model3.evaluate(x_test_flat,y_test)"
   ]
  },
  {
   "cell_type": "code",
   "execution_count": null,
   "id": "e1cc298a",
   "metadata": {},
   "outputs": [],
   "source": [
    "print('test loss,test acc: ',result3)"
   ]
  }
 ],
 "metadata": {
  "kernelspec": {
   "display_name": "Python 3 (ipykernel)",
   "language": "python",
   "name": "python3"
  },
  "language_info": {
   "codemirror_mode": {
    "name": "ipython",
    "version": 3
   },
   "file_extension": ".py",
   "mimetype": "text/x-python",
   "name": "python",
   "nbconvert_exporter": "python",
   "pygments_lexer": "ipython3",
   "version": "3.9.7"
  }
 },
 "nbformat": 4,
 "nbformat_minor": 5
}
